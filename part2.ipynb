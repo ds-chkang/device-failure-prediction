{
 "cells": [
  {
   "cell_type": "markdown",
   "metadata": {},
   "source": [
    "***Creator: Changhee Kang***"
   ]
  },
  {
   "cell_type": "markdown",
   "metadata": {},
   "source": [
    "**Part 2 - Developing predictive model development**"
   ]
  },
  {
   "cell_type": "markdown",
   "metadata": {},
   "source": [
    "**Note that:** data manupulation and exploration techniques illustrated in this demonstraton does not mean that the audience have to follow the same ways as shown here."
   ]
  },
  {
   "cell_type": "markdown",
   "metadata": {},
   "source": [
    "# Device Failure and Maintenance Prediction Model"
   ]
  },
  {
   "cell_type": "markdown",
   "metadata": {},
   "source": [
    "It is to build a predictive model with diagnoses of telemetry attributes to classify whether maintenance should be performed on devices or not. The column used for prediction is set with the column name, \"failure\", with binary value 0 for \"non-failure\" and 1 for \"failure\". The goal is to minimize false positives and false negatives."
   ]
  },
  {
   "cell_type": "markdown",
   "metadata": {},
   "source": [
    "# Assumptions"
   ]
  },
  {
   "cell_type": "markdown",
   "metadata": {},
   "source": [
    "As there is no meta data that describes the current dataset, assumptions can be applied to the current dataset. The dataset consists of diagnoses of telemetry attributes, so it might be rational that some variables are assumed to consist of *categorical nominal type values* while other variables would consist of *continuous type values*. "
   ]
  },
  {
   "cell_type": "markdown",
   "metadata": {},
   "source": [
    "# Roadmap"
   ]
  },
  {
   "cell_type": "markdown",
   "metadata": {},
   "source": [
    "This part is to demonstrate the predictive model development with an imbalanced dataset. In this part, *'Oversampling'* method will be applied to the current dataset to inflate the number of data point in the minority class. \n",
    "\n",
    "Variable importance scores will be measures with sampling and without sampling to see how sampling affect the importances of variables.\n",
    "\n",
    "The reason for applying *'Oversampling'* will be explained in detail. When developing the predictive model, a model development with and without cross-validation will be compared to see the impact of cross-validation involvments in the predictive model development. Moreover, the right way of applying sampling techniques with cross-validation will also be discussed here. *'Random Oversampling'* is the sampling technique to be adopted to inflate the number of data points in the minority class of the dataset."
   ]
  },
  {
   "cell_type": "markdown",
   "metadata": {},
   "source": [
    "# Data Loading"
   ]
  },
  {
   "cell_type": "markdown",
   "metadata": {},
   "source": [
    "import necessary python modules to load the current dataset into memory."
   ]
  },
  {
   "cell_type": "code",
   "execution_count": 4,
   "metadata": {},
   "outputs": [],
   "source": [
    "import pandas as pd\n",
    "import numpy as np"
   ]
  },
  {
   "cell_type": "markdown",
   "metadata": {},
   "source": [
    "Load the dataset into memory."
   ]
  },
  {
   "cell_type": "code",
   "execution_count": 5,
   "metadata": {},
   "outputs": [],
   "source": [
    "datafile = r'/home/thomas/Downloads/device_failure.csv'\n",
    "dataset = pd.read_csv(datafile, sep=',', engine='python')"
   ]
  },
  {
   "cell_type": "markdown",
   "metadata": {},
   "source": [
    "See if the dataset has been loaded correctly. There should be 12 columns meaning 12 variables. "
   ]
  },
  {
   "cell_type": "code",
   "execution_count": 6,
   "metadata": {},
   "outputs": [
    {
     "data": {
      "text/html": [
       "<div>\n",
       "<style scoped>\n",
       "    .dataframe tbody tr th:only-of-type {\n",
       "        vertical-align: middle;\n",
       "    }\n",
       "\n",
       "    .dataframe tbody tr th {\n",
       "        vertical-align: top;\n",
       "    }\n",
       "\n",
       "    .dataframe thead th {\n",
       "        text-align: right;\n",
       "    }\n",
       "</style>\n",
       "<table border=\"1\" class=\"dataframe\">\n",
       "  <thead>\n",
       "    <tr style=\"text-align: right;\">\n",
       "      <th></th>\n",
       "      <th>date</th>\n",
       "      <th>device</th>\n",
       "      <th>failure</th>\n",
       "      <th>attribute1</th>\n",
       "      <th>attribute2</th>\n",
       "      <th>attribute3</th>\n",
       "      <th>attribute4</th>\n",
       "      <th>attribute5</th>\n",
       "      <th>attribute6</th>\n",
       "      <th>attribute7</th>\n",
       "      <th>attribute8</th>\n",
       "      <th>attribute9</th>\n",
       "    </tr>\n",
       "  </thead>\n",
       "  <tbody>\n",
       "    <tr>\n",
       "      <td>0</td>\n",
       "      <td>2015-01-01</td>\n",
       "      <td>S1F01085</td>\n",
       "      <td>0</td>\n",
       "      <td>215630672</td>\n",
       "      <td>56</td>\n",
       "      <td>0</td>\n",
       "      <td>52</td>\n",
       "      <td>6</td>\n",
       "      <td>407438</td>\n",
       "      <td>0</td>\n",
       "      <td>0</td>\n",
       "      <td>7</td>\n",
       "    </tr>\n",
       "    <tr>\n",
       "      <td>1</td>\n",
       "      <td>2015-01-01</td>\n",
       "      <td>S1F0166B</td>\n",
       "      <td>0</td>\n",
       "      <td>61370680</td>\n",
       "      <td>0</td>\n",
       "      <td>3</td>\n",
       "      <td>0</td>\n",
       "      <td>6</td>\n",
       "      <td>403174</td>\n",
       "      <td>0</td>\n",
       "      <td>0</td>\n",
       "      <td>0</td>\n",
       "    </tr>\n",
       "    <tr>\n",
       "      <td>2</td>\n",
       "      <td>2015-01-01</td>\n",
       "      <td>S1F01E6Y</td>\n",
       "      <td>0</td>\n",
       "      <td>173295968</td>\n",
       "      <td>0</td>\n",
       "      <td>0</td>\n",
       "      <td>0</td>\n",
       "      <td>12</td>\n",
       "      <td>237394</td>\n",
       "      <td>0</td>\n",
       "      <td>0</td>\n",
       "      <td>0</td>\n",
       "    </tr>\n",
       "    <tr>\n",
       "      <td>3</td>\n",
       "      <td>2015-01-01</td>\n",
       "      <td>S1F01JE0</td>\n",
       "      <td>0</td>\n",
       "      <td>79694024</td>\n",
       "      <td>0</td>\n",
       "      <td>0</td>\n",
       "      <td>0</td>\n",
       "      <td>6</td>\n",
       "      <td>410186</td>\n",
       "      <td>0</td>\n",
       "      <td>0</td>\n",
       "      <td>0</td>\n",
       "    </tr>\n",
       "    <tr>\n",
       "      <td>4</td>\n",
       "      <td>2015-01-01</td>\n",
       "      <td>S1F01R2B</td>\n",
       "      <td>0</td>\n",
       "      <td>135970480</td>\n",
       "      <td>0</td>\n",
       "      <td>0</td>\n",
       "      <td>0</td>\n",
       "      <td>15</td>\n",
       "      <td>313173</td>\n",
       "      <td>0</td>\n",
       "      <td>0</td>\n",
       "      <td>3</td>\n",
       "    </tr>\n",
       "  </tbody>\n",
       "</table>\n",
       "</div>"
      ],
      "text/plain": [
       "         date    device  failure  attribute1  attribute2  attribute3  \\\n",
       "0  2015-01-01  S1F01085        0   215630672          56           0   \n",
       "1  2015-01-01  S1F0166B        0    61370680           0           3   \n",
       "2  2015-01-01  S1F01E6Y        0   173295968           0           0   \n",
       "3  2015-01-01  S1F01JE0        0    79694024           0           0   \n",
       "4  2015-01-01  S1F01R2B        0   135970480           0           0   \n",
       "\n",
       "   attribute4  attribute5  attribute6  attribute7  attribute8  attribute9  \n",
       "0          52           6      407438           0           0           7  \n",
       "1           0           6      403174           0           0           0  \n",
       "2           0          12      237394           0           0           0  \n",
       "3           0           6      410186           0           0           0  \n",
       "4           0          15      313173           0           0           3  "
      ]
     },
     "execution_count": 6,
     "metadata": {},
     "output_type": "execute_result"
    }
   ],
   "source": [
    "dataset.head()"
   ]
  },
  {
   "cell_type": "markdown",
   "metadata": {},
   "source": [
    "# Variable importances"
   ]
  },
  {
   "cell_type": "markdown",
   "metadata": {},
   "source": [
    "- Without *'Oversampling'* applied."
   ]
  },
  {
   "cell_type": "code",
   "execution_count": 11,
   "metadata": {},
   "outputs": [],
   "source": [
    "# import ExtraTreesClassifier.\n",
    "from sklearn.ensemble import ExtraTreesClassifier\n",
    "# import matplotlib to plot graphical statistics.\n",
    "import matplotlib.pyplot as plt"
   ]
  },
  {
   "cell_type": "code",
   "execution_count": 12,
   "metadata": {},
   "outputs": [],
   "source": [
    "# Test features for importances.\n",
    "def examine_features(x_train, y_train):\n",
    "    # Build a forest and compute the feature importances\n",
    "    forest = ExtraTreesClassifier(n_estimators=250, random_state=0)\n",
    "    forest.fit(x_train, y_train)\n",
    "    importances = forest.feature_importances_\n",
    "    std = np.std([tree.feature_importances_ for tree in forest.estimators_],\n",
    "                 axis=0)\n",
    "    indices = np.argsort(importances)[::-1]\n",
    "\n",
    "    # Print the feature ranking\n",
    "    print(\"Feature ranking:\")\n",
    "    for f in range(X.shape[1]):\n",
    "        print(\"%d. attribute %d (%f)\" % (f + 1, indices[f] + 1, importances[indices[f]]))\n",
    "\n",
    "    # Plot the feature importances of the forest\n",
    "    plt.rcParams['figure.figsize'] = (18.0, 4.5)\n",
    "    plt.figure()\n",
    "    plt.title(\"Feature importance scores\")\n",
    "    plt.bar(range(X.shape[1]), importances[indices], color=\"red\", yerr=std[indices], align=\"center\")\n",
    "    plt.xticks(range(X.shape[1]), indices+1)\n",
    "    plt.xlim([-1, X.shape[1]])\n",
    "    plt.show()"
   ]
  },
  {
   "cell_type": "markdown",
   "metadata": {},
   "source": [
    "Apply *'Random Oversampling'*"
   ]
  },
  {
   "cell_type": "code",
   "execution_count": 24,
   "metadata": {},
   "outputs": [
    {
     "name": "stdout",
     "output_type": "stream",
     "text": [
      "--- Before sampling ---\n",
      "No. of non-failures: 124388\t No. of failures: 106\n",
      "0    124388\n",
      "1       106\n",
      "Name: failure, dtype: int64\n"
     ]
    },
    {
     "data": {
      "image/png": "[encoded data removed]",
      "text/plain": [
       "<Figure size 1296x360 with 1 Axes>"
      ]
     },
     "metadata": {
      "needs_background": "light"
     },
     "output_type": "display_data"
    },
    {
     "name": "stdout",
     "output_type": "stream",
     "text": [
      "\n",
      "--- After random oversampling ---\n",
      "date          248776\n",
      "device        248776\n",
      "failure       248776\n",
      "attribute1    248776\n",
      "attribute2    248776\n",
      "attribute3    248776\n",
      "attribute4    248776\n",
      "attribute5    248776\n",
      "attribute6    248776\n",
      "attribute7    248776\n",
      "attribute8    248776\n",
      "attribute9    248776\n",
      "dtype: int64\n",
      "1    124388\n",
      "0    124388\n",
      "Name: failure, dtype: int64\n"
     ]
    },
    {
     "data": {
      "image/png": "[encoded data removed]",
      "text/plain": [
       "<Figure size 1296x360 with 1 Axes>"
      ]
     },
     "metadata": {
      "needs_background": "light"
     },
     "output_type": "display_data"
    }
   ],
   "source": [
    "# Define class counts.\n",
    "count_non_failure, count_failure = dataset.failure.value_counts()\n",
    "print(\"--- Before sampling ---\")\n",
    "print(\"No. of non-failures: {}\\t No. of failures: {}\".format(count_non_failure, count_failure))\n",
    "plt.rcParams['figure.figsize'] = (18.0, 5.0)\n",
    "print(dataset.failure.value_counts())\n",
    "dataset.failure.value_counts().plot(kind='bar', title='Count (target)');\n",
    "plt.show()\n",
    "print()\n",
    "\n",
    "print('--- After random oversampling ---')\n",
    "# Divide by class.\n",
    "df_failure = dataset[dataset['failure'] == 1]\n",
    "df_non_failure = dataset[dataset['failure'] == 0]\n",
    "\n",
    "# Apply random oversampling.\n",
    "df_failure_over = df_failure.sample(count_non_failure, replace=True)\n",
    "\n",
    "# Concatenate oversampled data with non_failure dataframe.\n",
    "oversampled_dataset = pd.concat([df_non_failure, df_failure_over], axis=0)\n",
    "print(oversampled_dataset.count())\n",
    "\n",
    "plt.rcParams['figure.figsize'] = (18.0, 5.0)\n",
    "print(oversampled_dataset.failure.value_counts())\n",
    "oversampled_dataset.failure.value_counts().plot(kind='bar', title='Count (target)');\n",
    "plt.show()"
   ]
  },
  {
   "cell_type": "markdown",
   "metadata": {},
   "source": [
    "*'Randome Oversampling'* randomly increases samples with replacement and it has increased the number of data points in failure to the equal number of data points in non-failure. Now, the number of data points both in failure and non-failure is equal."
   ]
  },
  {
   "cell_type": "code",
   "execution_count": 21,
   "metadata": {},
   "outputs": [
    {
     "name": "stdout",
     "output_type": "stream",
     "text": [
      "Feature importance test on oversampled dataset\n",
      "Feature ranking:\n",
      "1. attribute 4 (0.184371)\n",
      "2. attribute 1 (0.181275)\n",
      "3. attribute 6 (0.164470)\n",
      "4. attribute 7 (0.148295)\n",
      "5. attribute 2 (0.146123)\n",
      "6. attribute 5 (0.123882)\n",
      "7. attribute 8 (0.033429)\n",
      "8. attribute 3 (0.018155)\n"
     ]
    },
    {
     "data": {
      "image/png": "[encoded data removed]",
      "text/plain": [
       "<Figure size 1296x324 with 1 Axes>"
      ]
     },
     "metadata": {
      "needs_background": "light"
     },
     "output_type": "display_data"
    },
    {
     "name": "stdout",
     "output_type": "stream",
     "text": [
      "Feature importance test on original dataset\n",
      "Feature ranking:\n",
      "1. attribute 1 (0.278196)\n",
      "2. attribute 6 (0.276792)\n",
      "3. attribute 4 (0.123269)\n",
      "4. attribute 2 (0.102534)\n",
      "5. attribute 5 (0.082676)\n",
      "6. attribute 7 (0.079533)\n",
      "7. attribute 8 (0.044559)\n",
      "8. attribute 3 (0.012441)\n"
     ]
    },
    {
     "data": {
      "image/png": "[encoded data removed]",
      "text/plain": [
       "<Figure size 1296x324 with 1 Axes>"
      ]
     },
     "metadata": {
      "needs_background": "light"
     },
     "output_type": "display_data"
    }
   ],
   "source": [
    "print(\"Feature importance test on oversampled dataset\")\n",
    "X = oversampled_dataset[['attribute1', 'attribute2', 'attribute3', 'attribute4', 'attribute5', 'attribute6', 'attribute7', 'attribute9']]\n",
    "Y = oversampled_dataset.failure\n",
    "examine_features(X,Y)\n",
    "\n",
    "print(\"Feature importance test on original dataset\")\n",
    "X = dataset[['attribute1', 'attribute2', 'attribute3', 'attribute4', 'attribute5', 'attribute6', 'attribute7', 'attribute9']]\n",
    "Y = dataset.failure\n",
    "examine_features(X,Y)"
   ]
  },
  {
   "cell_type": "markdown",
   "metadata": {},
   "source": [
    "As shown above, the rank of variable importance scores for variables has been rearranged by the effect of *'Random Oversampling'*. Having applied *'Random Oversampling'*, *'attribute4'* now takes the first important variable position. *'attribute3'* and *'attribute8'* takes the same places of variable importances. It might be valuable to take a closer look at the result of *'Random Oversampling'* so as to understand how variables are scored for importance. "
   ]
  },
  {
   "cell_type": "code",
   "execution_count": null,
   "metadata": {},
   "outputs": [],
   "source": []
  }
 ],
 "metadata": {
  "kernelspec": {
   "display_name": "aws-test4",
   "language": "python",
   "name": "aws-test4"
  },
  "language_info": {
   "codemirror_mode": {
    "name": "ipython",
    "version": 3
   },
   "file_extension": ".py",
   "mimetype": "text/x-python",
   "name": "python",
   "nbconvert_exporter": "python",
   "pygments_lexer": "ipython3",
   "version": "3.5.6"
  }
 },
 "nbformat": 4,
 "nbformat_minor": 2
}
