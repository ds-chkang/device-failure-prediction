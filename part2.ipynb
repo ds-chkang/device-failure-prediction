{
 "cells": [
  {
   "cell_type": "markdown",
   "metadata": {},
   "source": [
    "***Creator: Changhee Kang***"
   ]
  },
  {
   "cell_type": "markdown",
   "metadata": {},
   "source": [
    "**Part 2 - Developing predictive model development without sampling techniques applied**"
   ]
  },
  {
   "cell_type": "markdown",
   "metadata": {},
   "source": [
    "**Note that:** data manupulation and exploration techniques illustrated in this demonstraton does not mean that the audience have to follow the same ways as shown here."
   ]
  },
  {
   "cell_type": "markdown",
   "metadata": {},
   "source": [
    "# Device Failure and Maintenance Prediction Model"
   ]
  },
  {
   "cell_type": "markdown",
   "metadata": {},
   "source": [
    "It is to build a predictive model with diagnoses of telemetry attributes to classify whether maintenance should be performed on devices or not. The column used for prediction is set with the column name, \"failure\", with binary value 0 for \"non-failure\" and 1 for \"failure\". The goal is to minimize false positives and false negatives."
   ]
  },
  {
   "cell_type": "markdown",
   "metadata": {},
   "source": [
    "# Assumptions"
   ]
  },
  {
   "cell_type": "markdown",
   "metadata": {},
   "source": [
    "As there is no meta data that describes the current dataset, assumptions can be applied to the current dataset. The dataset consists of diagnoses of telemetry attributes, so it might be rational that some variables are assumed to consist of *categorical nominal type values* while other variables would consist of *continuous type values*. "
   ]
  },
  {
   "cell_type": "markdown",
   "metadata": {},
   "source": [
    "# Roadmap"
   ]
  },
  {
   "cell_type": "markdown",
   "metadata": {},
   "source": [
    "This part is to demonstrate the predictive model development with an imbalanced dataset. In this part, the predictive model will be developed with any sampling techniques to observe how the predictive will behave with such an extreamly imblanced dataset. Some combinations of variables will be applied to the model development and see how the model "
   ]
  },
  {
   "cell_type": "markdown",
   "metadata": {},
   "source": [
    "# Data Loading"
   ]
  },
  {
   "cell_type": "markdown",
   "metadata": {},
   "source": [
    "import necessary python modules to load the current dataset into memory."
   ]
  },
  {
   "cell_type": "code",
   "execution_count": 4,
   "metadata": {},
   "outputs": [],
   "source": [
    "import pandas as pd\n",
    "import numpy as np"
   ]
  },
  {
   "cell_type": "markdown",
   "metadata": {},
   "source": [
    "Load the dataset into memory."
   ]
  },
  {
   "cell_type": "code",
   "execution_count": 5,
   "metadata": {},
   "outputs": [],
   "source": [
    "datafile = r'/home/thomas/Downloads/device_failure.csv'\n",
    "dataset = pd.read_csv(datafile, sep=',', engine='python')"
   ]
  },
  {
   "cell_type": "markdown",
   "metadata": {},
   "source": [
    "See if the dataset has been loaded correctly. There should be 12 columns meaning 12 variables. "
   ]
  },
  {
   "cell_type": "code",
   "execution_count": 6,
   "metadata": {},
   "outputs": [
    {
     "data": {
      "text/html": [
       "<div>\n",
       "<style scoped>\n",
       "    .dataframe tbody tr th:only-of-type {\n",
       "        vertical-align: middle;\n",
       "    }\n",
       "\n",
       "    .dataframe tbody tr th {\n",
       "        vertical-align: top;\n",
       "    }\n",
       "\n",
       "    .dataframe thead th {\n",
       "        text-align: right;\n",
       "    }\n",
       "</style>\n",
       "<table border=\"1\" class=\"dataframe\">\n",
       "  <thead>\n",
       "    <tr style=\"text-align: right;\">\n",
       "      <th></th>\n",
       "      <th>date</th>\n",
       "      <th>device</th>\n",
       "      <th>failure</th>\n",
       "      <th>attribute1</th>\n",
       "      <th>attribute2</th>\n",
       "      <th>attribute3</th>\n",
       "      <th>attribute4</th>\n",
       "      <th>attribute5</th>\n",
       "      <th>attribute6</th>\n",
       "      <th>attribute7</th>\n",
       "      <th>attribute8</th>\n",
       "      <th>attribute9</th>\n",
       "    </tr>\n",
       "  </thead>\n",
       "  <tbody>\n",
       "    <tr>\n",
       "      <td>0</td>\n",
       "      <td>2015-01-01</td>\n",
       "      <td>S1F01085</td>\n",
       "      <td>0</td>\n",
       "      <td>215630672</td>\n",
       "      <td>56</td>\n",
       "      <td>0</td>\n",
       "      <td>52</td>\n",
       "      <td>6</td>\n",
       "      <td>407438</td>\n",
       "      <td>0</td>\n",
       "      <td>0</td>\n",
       "      <td>7</td>\n",
       "    </tr>\n",
       "    <tr>\n",
       "      <td>1</td>\n",
       "      <td>2015-01-01</td>\n",
       "      <td>S1F0166B</td>\n",
       "      <td>0</td>\n",
       "      <td>61370680</td>\n",
       "      <td>0</td>\n",
       "      <td>3</td>\n",
       "      <td>0</td>\n",
       "      <td>6</td>\n",
       "      <td>403174</td>\n",
       "      <td>0</td>\n",
       "      <td>0</td>\n",
       "      <td>0</td>\n",
       "    </tr>\n",
       "    <tr>\n",
       "      <td>2</td>\n",
       "      <td>2015-01-01</td>\n",
       "      <td>S1F01E6Y</td>\n",
       "      <td>0</td>\n",
       "      <td>173295968</td>\n",
       "      <td>0</td>\n",
       "      <td>0</td>\n",
       "      <td>0</td>\n",
       "      <td>12</td>\n",
       "      <td>237394</td>\n",
       "      <td>0</td>\n",
       "      <td>0</td>\n",
       "      <td>0</td>\n",
       "    </tr>\n",
       "    <tr>\n",
       "      <td>3</td>\n",
       "      <td>2015-01-01</td>\n",
       "      <td>S1F01JE0</td>\n",
       "      <td>0</td>\n",
       "      <td>79694024</td>\n",
       "      <td>0</td>\n",
       "      <td>0</td>\n",
       "      <td>0</td>\n",
       "      <td>6</td>\n",
       "      <td>410186</td>\n",
       "      <td>0</td>\n",
       "      <td>0</td>\n",
       "      <td>0</td>\n",
       "    </tr>\n",
       "    <tr>\n",
       "      <td>4</td>\n",
       "      <td>2015-01-01</td>\n",
       "      <td>S1F01R2B</td>\n",
       "      <td>0</td>\n",
       "      <td>135970480</td>\n",
       "      <td>0</td>\n",
       "      <td>0</td>\n",
       "      <td>0</td>\n",
       "      <td>15</td>\n",
       "      <td>313173</td>\n",
       "      <td>0</td>\n",
       "      <td>0</td>\n",
       "      <td>3</td>\n",
       "    </tr>\n",
       "  </tbody>\n",
       "</table>\n",
       "</div>"
      ],
      "text/plain": [
       "         date    device  failure  attribute1  attribute2  attribute3  \\\n",
       "0  2015-01-01  S1F01085        0   215630672          56           0   \n",
       "1  2015-01-01  S1F0166B        0    61370680           0           3   \n",
       "2  2015-01-01  S1F01E6Y        0   173295968           0           0   \n",
       "3  2015-01-01  S1F01JE0        0    79694024           0           0   \n",
       "4  2015-01-01  S1F01R2B        0   135970480           0           0   \n",
       "\n",
       "   attribute4  attribute5  attribute6  attribute7  attribute8  attribute9  \n",
       "0          52           6      407438           0           0           7  \n",
       "1           0           6      403174           0           0           0  \n",
       "2           0          12      237394           0           0           0  \n",
       "3           0           6      410186           0           0           0  \n",
       "4           0          15      313173           0           0           3  "
      ]
     },
     "execution_count": 6,
     "metadata": {},
     "output_type": "execute_result"
    }
   ],
   "source": [
    "dataset.head()"
   ]
  },
  {
   "cell_type": "markdown",
   "metadata": {},
   "source": [
    "# Variable importances"
   ]
  },
  {
   "cell_type": "markdown",
   "metadata": {},
   "source": [
    "- Without *'Oversampling'* applied."
   ]
  },
  {
   "cell_type": "code",
   "execution_count": 11,
   "metadata": {},
   "outputs": [],
   "source": [
    "# import ExtraTreesClassifier.\n",
    "from sklearn.ensemble import ExtraTreesClassifier\n",
    "# import matplotlib to plot graphical statistics.\n",
    "import matplotlib.pyplot as plt"
   ]
  },
  {
   "cell_type": "code",
   "execution_count": 12,
   "metadata": {},
   "outputs": [],
   "source": [
    "# Test features for importances.\n",
    "def examine_features(x_train, y_train):\n",
    "    # Build a forest and compute the feature importances\n",
    "    forest = ExtraTreesClassifier(n_estimators=250, random_state=0)\n",
    "    forest.fit(x_train, y_train)\n",
    "    importances = forest.feature_importances_\n",
    "    std = np.std([tree.feature_importances_ for tree in forest.estimators_],\n",
    "                 axis=0)\n",
    "    indices = np.argsort(importances)[::-1]\n",
    "\n",
    "    # Print the feature ranking\n",
    "    print(\"Feature ranking:\")\n",
    "    for f in range(X.shape[1]):\n",
    "        print(\"%d. attribute %d (%f)\" % (f + 1, indices[f] + 1, importances[indices[f]]))\n",
    "\n",
    "    # Plot the feature importances of the forest\n",
    "    plt.rcParams['figure.figsize'] = (18.0, 4.5)\n",
    "    plt.figure()\n",
    "    plt.title(\"Feature importance scores\")\n",
    "    plt.bar(range(X.shape[1]), importances[indices], color=\"red\", yerr=std[indices], align=\"center\")\n",
    "    plt.xticks(range(X.shape[1]), indices+1)\n",
    "    plt.xlim([-1, X.shape[1]])\n",
    "    plt.show()"
   ]
  },
  {
   "cell_type": "markdown",
   "metadata": {},
   "source": [
    "Apply *'Random Oversampling'*"
   ]
  },
  {
   "cell_type": "code",
   "execution_count": 24,
   "metadata": {},
   "outputs": [
    {
     "name": "stdout",
     "output_type": "stream",
     "text": [
      "--- Before sampling ---\n",
      "No. of non-failures: 124388\t No. of failures: 106\n",
      "0    124388\n",
      "1       106\n",
      "Name: failure, dtype: int64\n"
     ]
    },
    {
     "data": {
      "image/png": "[encoded data removed]",
      "text/plain": [
       "<Figure size 1296x360 with 1 Axes>"
      ]
     },
     "metadata": {
      "needs_background": "light"
     },
     "output_type": "display_data"
    },
    {
     "name": "stdout",
     "output_type": "stream",
     "text": [
      "\n",
      "--- After random oversampling ---\n",
      "date          248776\n",
      "device        248776\n",
      "failure       248776\n",
      "attribute1    248776\n",
      "attribute2    248776\n",
      "attribute3    248776\n",
      "attribute4    248776\n",
      "attribute5    248776\n",
      "attribute6    248776\n",
      "attribute7    248776\n",
      "attribute8    248776\n",
      "attribute9    248776\n",
      "dtype: int64\n",
      "1    124388\n",
      "0    124388\n",
      "Name: failure, dtype: int64\n"
     ]
    },
    {
     "data": {
      "image/png": "[encoded data removed]",
      "text/plain": [
       "<Figure size 1296x360 with 1 Axes>"
      ]
     },
     "metadata": {
      "needs_background": "light"
     },
     "output_type": "display_data"
    }
   ],
   "source": [
    "# Define class counts.\n",
    "count_non_failure, count_failure = dataset.failure.value_counts()\n",
    "print(\"--- Before sampling ---\")\n",
    "print(\"No. of non-failures: {}\\t No. of failures: {}\".format(count_non_failure, count_failure))\n",
    "plt.rcParams['figure.figsize'] = (18.0, 5.0)\n",
    "print(dataset.failure.value_counts())\n",
    "dataset.failure.value_counts().plot(kind='bar', title='Count (target)');\n",
    "plt.show()\n",
    "print()\n",
    "\n",
    "print('--- After random oversampling ---')\n",
    "# Divide by class.\n",
    "df_failure = dataset[dataset['failure'] == 1]\n",
    "df_non_failure = dataset[dataset['failure'] == 0]\n",
    "\n",
    "# Apply random oversampling.\n",
    "df_failure_over = df_failure.sample(count_non_failure, replace=True)\n",
    "\n",
    "# Concatenate oversampled data with non_failure dataframe.\n",
    "oversampled_dataset = pd.concat([df_non_failure, df_failure_over], axis=0)\n",
    "print(oversampled_dataset.count())\n",
    "\n",
    "plt.rcParams['figure.figsize'] = (18.0, 5.0)\n",
    "print(oversampled_dataset.failure.value_counts())\n",
    "oversampled_dataset.failure.value_counts().plot(kind='bar', title='Count (target)');\n",
    "plt.show()"
   ]
  },
  {
   "cell_type": "markdown",
   "metadata": {},
   "source": [
    "*'Randome Oversampling'* randomly increases samples with replacement and it has increased the number of data points in failure to the equal number of data points in non-failure. Now, the number of data points both in failure and non-failure is equal."
   ]
  },
  {
   "cell_type": "code",
   "execution_count": 25,
   "metadata": {},
   "outputs": [
    {
     "name": "stdout",
     "output_type": "stream",
     "text": [
      "Feature importance test on original dataset\n",
      "Feature ranking:\n",
      "1. attribute 1 (0.278196)\n",
      "2. attribute 6 (0.276792)\n",
      "3. attribute 4 (0.123269)\n",
      "4. attribute 2 (0.102534)\n",
      "5. attribute 5 (0.082676)\n",
      "6. attribute 7 (0.079533)\n",
      "7. attribute 8 (0.044559)\n",
      "8. attribute 3 (0.012441)\n"
     ]
    },
    {
     "data": {
      "image/png": "[encoded data removed]",
      "text/plain": [
       "<Figure size 1296x324 with 1 Axes>"
      ]
     },
     "metadata": {
      "needs_background": "light"
     },
     "output_type": "display_data"
    },
    {
     "name": "stdout",
     "output_type": "stream",
     "text": [
      "Feature importance test on oversampled dataset\n",
      "Feature ranking:\n",
      "1. attribute 4 (0.183476)\n",
      "2. attribute 1 (0.182864)\n",
      "3. attribute 6 (0.164457)\n",
      "4. attribute 2 (0.148207)\n",
      "5. attribute 7 (0.147339)\n",
      "6. attribute 5 (0.122345)\n",
      "7. attribute 8 (0.033167)\n",
      "8. attribute 3 (0.018145)\n"
     ]
    },
    {
     "data": {
      "image/png": "[encoded data removed]",
      "text/plain": [
       "<Figure size 1296x324 with 1 Axes>"
      ]
     },
     "metadata": {
      "needs_background": "light"
     },
     "output_type": "display_data"
    }
   ],
   "source": [
    "print(\"Feature importance test on original dataset\")\n",
    "X = dataset[['attribute1', 'attribute2', 'attribute3', 'attribute4', 'attribute5', 'attribute6', 'attribute7', 'attribute9']]\n",
    "Y = dataset.failure\n",
    "examine_features(X,Y)\n",
    "\n",
    "print(\"Feature importance test on oversampled dataset\")\n",
    "X = oversampled_dataset[['attribute1', 'attribute2', 'attribute3', 'attribute4', 'attribute5', 'attribute6', 'attribute7', 'attribute9']]\n",
    "Y = oversampled_dataset.failure\n",
    "examine_features(X,Y)"
   ]
  },
  {
   "cell_type": "markdown",
   "metadata": {},
   "source": [
    "As shown above, the rank of variable importance scores has been rearranged by the effect of *'Random Oversampling'*. Having applied *'Random Oversampling'*, *'attribute4'* now takes the first important variable position. *'attribute3'* and *'attribute8'* takes the same places as before. It might be valuable to take a closer look at the result of *'Random Oversampling'* so as to understand how variables are scored for importance. *'attribute4'* is now the most importance varible, why is it so? It is because both *'attribute1'*, *'attribute2'*, and *'attribute5'* have more unique values than *'attribute4'* and *'attribute7'*; however, with *'Random Oversampling'*, *'attribute4'* and *'attribute7'* can now reduce *'entropy'* more efficiently with less unique values; thus, *'attribute'* and *'attribute7'* take higher ranks after *'Random Oversampling'*. \n",
    "\n",
    "One thing that should be noted is that *'attribute7'* is recognized as more important than *'attribute5'*. It is because *'attribute7'* can now reduce entropy more efficiently with less unique values than *'attribute5'*.\n",
    "\n",
    "It should also be noted that there are no rank changes to *'attribute8'*(*'attribute8'* means *'attribute9'*) and *'attribute3'*. Why is it so? It might be because *'attribute3'* and *'attribute8'* have less numbers of unique values to failure. Recall that the predictive model does not only need ways to non-failure but it also learn ways to failure, too."
   ]
  },
  {
   "cell_type": "markdown",
   "metadata": {},
   "source": [
    "# Build the predictive model without sampling"
   ]
  },
  {
   "cell_type": "markdown",
   "metadata": {},
   "source": [
    "The predictive model will be developed with cross-validation; however, there will be no sampling techniques applied to see the impact of sampling techniques. First, import necessary modules to build a predictive model."
   ]
  },
  {
   "cell_type": "code",
   "execution_count": 57,
   "metadata": {},
   "outputs": [],
   "source": [
    "from sklearn.model_selection import train_test_split\n",
    "from sklearn.model_selection import StratifiedKFold\n",
    "\n",
    "from sklearn.ensemble import RandomForestClassifier\n",
    "from sklearn.ensemble import AdaBoostClassifier\n",
    "from sklearn.ensemble import GradientBoostingClassifier\n",
    "from sklearn.ensemble import VotingClassifier\n",
    "\n",
    "from sklearn.linear_model import LogisticRegression\n",
    "from sklearn.naive_bayes import GaussianNB\n",
    "from matplotlib.colors import ListedColormap\n",
    "from imblearn import over_sampling\n",
    "\n",
    "from sklearn import metrics\n",
    "from sklearn.metrics import auc, accuracy_score, average_precision_score, precision_recall_curve, roc_auc_score, roc_curve, f1_score, precision_score, recall_score, classification_report\n",
    "from sklearn.model_selection import cross_val_score\n",
    "from sklearn.metrics import classification_report, confusion_matrix\n",
    "from sklearn.metrics import recall_score\n",
    "\n",
    "from IPython.display import HTML, display\n",
    "import tabulate\n",
    "\n",
    "import warnings\n",
    "warnings.filterwarnings('ignore')  # \"error\", \"ignore\", \"always\", \"default\", \"module\" or \"once\""
   ]
  },
  {
   "cell_type": "markdown",
   "metadata": {},
   "source": [
    "The following model building function will do the job for predictive model developments:"
   ]
  },
  {
   "cell_type": "code",
   "execution_count": 58,
   "metadata": {},
   "outputs": [],
   "source": [
    "'''\n",
    "    Models are built with stratified 10-cross-validation by default. The splitting of data into \n",
    "    folds will ensure that each fold has the same proportion of observations with a given \n",
    "    categorical value, such as the class outcome value. \n",
    "    \n",
    "    This will produce a predictive model according to a set of function parameters such as:\n",
    "    - X: holds independent variables.\n",
    "    - Y: holds the target variable.\n",
    "    - DEPTH: the maximum number of depths each estimator can span.\n",
    "    - NEIGHBORS: the number of neighbors to use for data augmentation.\n",
    "    - ESTIMATORS: the number of estimators.\n",
    "    - WICH_RF: the choice of model development approaches.(no sampling, over-sampling, smote-sampling)\n",
    "        1 - SMOTE.\n",
    "        2 - Random oversampling on minority class.\n",
    "        0 - No sampling techniques applied.\n",
    "    \n",
    "    At the end of the funtion execution, statistical results will be provided on the console.\n",
    "'''\n",
    "def run_model(SUMMARY_TABLE, X, Y, DEPTH, NEIGHBORS, ESTIMATORS, WHICH_MODEL, WHICH_SAMPLING):\n",
    "    predicted = None\n",
    "    \n",
    "    # Convert to dataframe to number to split for cross-valation runs.\n",
    "    numpy_X = X.to_numpy()\n",
    "    numpy_Y = Y.to_numpy()\n",
    "\n",
    "    # Create 10-stratified-folds.\n",
    "    skf = StratifiedKFold(n_splits=10)\n",
    "    rnd_cnt = 1\n",
    "\n",
    "    total_fpr = 0\n",
    "    total_acc = 0\n",
    "    total_err = 0\n",
    "    total_precision = 0\n",
    "    total_recall = 0\n",
    "    total_f1 = 0\n",
    "    total_tp = 0\n",
    "    total_tn = 0\n",
    "    total_train_acc = 0\n",
    "    total_fp = 0\n",
    "    \n",
    "    # Run 10-stratified-cross-validations.\n",
    "    for train_index, test_index in skf.split(numpy_X, numpy_Y):\n",
    "        # Data is numpied.\n",
    "        x_train, x_test = numpy_X[train_index], numpy_X[test_index]\n",
    "        y_train, y_test = numpy_Y[train_index], numpy_Y[test_index]\n",
    "\n",
    "        # convert to dataframe from numpied data.\n",
    "        x_train = pd.DataFrame(x_train.reshape(-1, len(X.columns)),columns=X.columns)    \n",
    "        x_test = pd.DataFrame(x_test.reshape(-1, len(X.columns)),columns=X.columns)\n",
    "        y_train = pd.DataFrame(y_train.reshape(-1, 1))\n",
    "        y_test = pd.DataFrame(y_test.reshape(-1, 1))    \n",
    "        \n",
    "        '''\n",
    "            Do sampling accordingly.\n",
    "        '''\n",
    "        if WHICH_SAMPLING == 'OVER': \n",
    "            # Concatenate y_train to x_train to over-sample\".\n",
    "            train_dataset = x_train\n",
    "            train_dataset['failure'] = y_train\n",
    "\n",
    "            # Split train dataset into true negatives and true positives\n",
    "            train_target_0 = train_dataset[train_dataset.iloc[:,-1] == 0]\n",
    "            train_target_1 = train_dataset[train_dataset.iloc[:,-1] == 1]\n",
    "\n",
    "            #Over-sample data with replacement allowed for the minority class.\n",
    "            train_target_1_oversample = train_target_1.sample(len(train_target_0), replace=True)\n",
    "            train_target_1_oversample.failure.value_counts()\n",
    "            train_oversample = pd.concat([train_target_1_oversample, train_target_0], axis=0)\n",
    "\n",
    "            x_train = train_oversample # Assign over-sampled train dataset to x_train.\n",
    "            y_train = x_train.failure # Copy y values from x_train.\n",
    "            x_train.drop('failure', axis=1, inplace=True) # Drop y values from x_train.\n",
    "        elif WHICH_SAMPLING == 'UNDER':   \n",
    "            # Create random forest classifier with downsampling for the majority class.\n",
    "            x_train_res, y_train_res = RandomUnderSampler(random_state=0).fit_sample(x_train, y_train)\n",
    "            x_train = x_train_res\n",
    "            y_train = y_train_res\n",
    "        else: \n",
    "            pass\n",
    "        \n",
    "        '''\n",
    "            Select and run the model accordingly.\n",
    "        '''\n",
    "        train_acc = 0\n",
    "        \n",
    "        if WHICH_MODEL == 'RF': # Random Forest.\n",
    "            rf = RandomForestClassifier(random_state=0, n_estimators=ESTIMATORS, max_depth=DEPTH)\n",
    "            rf.fit(x_train,y_train) # Fit the model to training dataset.\n",
    "            #predicted = rf.predict(x_test) # Get prediction result.\n",
    "            train_acc = rf.score(x_train, y_train) # train set 정확도\n",
    "            y_pred = rf.predict(x_test)#(rf.predict_proba(x_test)[:,1] >= prob).astype(bool)\n",
    "            \n",
    "        \n",
    "        # Show statistics for each round.\n",
    "        #print(\"Fold - {}\".format(rnd_cnt))\n",
    "        '''\n",
    "            Confusion Matrix\n",
    "        '''\n",
    "        #print(\"-------------  Confusion Matrix  ----------------\")\n",
    "        cm = confusion_matrix(y_test, y_pred)\n",
    "        print(\"Fold - {}\".format(rnd_cnt))\n",
    "        print(cm)\n",
    "        print()\n",
    "        '''\n",
    "            Get individual counts from confusion matrix for further statistics for \n",
    "            true positive, true negatve, false positive, and false negative.\n",
    "        '''\n",
    "        TN = cm[0][0]\n",
    "        FP = cm[0][1]\n",
    "        FN = cm[1][0]\n",
    "        TP = cm[1][1]\n",
    "        \n",
    "        # Compute totals of true positives and true negatives.\n",
    "        total_tp += TP\n",
    "        total_tn += TN\n",
    "        total_fp += FP\n",
    "        \n",
    "        '''\n",
    "            Statistics for accuray, precision, recall, overall error, and etc..\n",
    "        '''\n",
    "        #print(\"-------------     Statistics     ----------------\")\n",
    "        acc = (TN+TP)/(TN+TP+FN+FP)\n",
    "        precision = TP/(FP+TP)\n",
    "        recall = TP/(FN+TP)\n",
    "        f1 = 2*(precision*recall/(precision+recall))\n",
    "        overall_error = (FP+FN)/(TP+TN+FP+FN)     \n",
    "        fpr = FP/(TN+FP)\n",
    "        \n",
    "        # Compute totals of other statistics.\n",
    "        total_err += overall_error\n",
    "        total_acc += acc\n",
    "        total_precision += precision\n",
    "        total_recall += recall\n",
    "        total_f1 += f1\n",
    "        total_fpr += fpr\n",
    "        total_train_acc += train_acc\n",
    "        \n",
    "        # Increment round by 1.\n",
    "        rnd_cnt += 1\n",
    "    \n",
    "    # Compute averages.\n",
    "    avg_err = round((total_err/10)*100, 2)\n",
    "    avg_acc = round((total_acc/10)*100, 2)\n",
    "    avg_pre = round((total_precision/10)*100, 2)\n",
    "    avg_rec = round((total_recall/10)*100, 2)\n",
    "    avg_f1 = round((total_f1/10)*100, 2)\n",
    "    avg_tp = round((total_tp/10), 2)\n",
    "    avg_tn = round((total_tn/10), 2)\n",
    "    avg_fpr = round((total_fpr/10)*100, 2)\n",
    "    avg_train_acc = round((total_train_acc/10)*100, 2)\n",
    "    avg_fp = round((total_fp/10)*100, 2)\n",
    "\n",
    "    show_classifier_summary(SUMMARY_TABLE, WHICH_MODEL, WHICH_SAMPLING, ESTIMATORS, DEPTH, NEIGHBORS, len(X.columns), avg_train_acc, avg_acc, avg_pre, avg_rec, avg_fpr, avg_err, avg_f1, avg_tp, avg_tn, avg_fp, X)"
   ]
  },
  {
   "cell_type": "markdown",
   "metadata": {},
   "source": [
    "A summary function will be defined to show the result of a predictive model performance."
   ]
  },
  {
   "cell_type": "code",
   "execution_count": 59,
   "metadata": {},
   "outputs": [],
   "source": [
    "def show_classifier_summary(summary_table, \n",
    "                            which_model, \n",
    "                            which_sample_tech, \n",
    "                            estimators,\n",
    "                            depth,\n",
    "                            neighbor,\n",
    "                            var_len,\n",
    "                            avg_train_acc,\n",
    "                            avg_acc, \n",
    "                            avg_pre, \n",
    "                            avg_rec, \n",
    "                            avg_fpr,\n",
    "                            avg_err, \n",
    "                            avg_f1,\n",
    "                            avg_tp, \n",
    "                            avg_tn, \n",
    "                            avg_fp,\n",
    "                            variables):\n",
    "    \n",
    "    summary_table.append(\n",
    "            [which_model, \n",
    "            which_sample_tech, \n",
    "            estimators,\n",
    "            depth,\n",
    "            neighbor,\n",
    "            var_len,\n",
    "            avg_train_acc,\n",
    "            avg_acc, \n",
    "            avg_pre,\n",
    "            avg_rec,\n",
    "            avg_fpr,\n",
    "            avg_f1,\n",
    "            avg_err, \n",
    "            avg_tp, \n",
    "            avg_tn, \n",
    "            avg_fp,\n",
    "            variables.columns.tolist()]\n",
    "        )\n",
    "    display(HTML(tabulate.tabulate(summary_table, tablefmt='html')))"
   ]
  },
  {
   "cell_type": "markdown",
   "metadata": {},
   "source": [
    "*'attribute8'* is a duplicate of *'attribute7'* so it is removed from the variable list and not used for the model development."
   ]
  },
  {
   "cell_type": "code",
   "execution_count": 61,
   "metadata": {},
   "outputs": [
    {
     "name": "stdout",
     "output_type": "stream",
     "text": [
      "Fold - 1\n",
      "[[12439     0]\n",
      " [   11     0]]\n",
      "\n",
      "Fold - 2\n",
      "[[12439     0]\n",
      " [   11     0]]\n",
      "\n",
      "Fold - 3\n",
      "[[12439     0]\n",
      " [   11     0]]\n",
      "\n",
      "Fold - 4\n",
      "[[12439     0]\n",
      " [   11     0]]\n",
      "\n",
      "Fold - 5\n",
      "[[12439     0]\n",
      " [   11     0]]\n",
      "\n",
      "Fold - 6\n",
      "[[12439     0]\n",
      " [   11     0]]\n",
      "\n",
      "Fold - 7\n",
      "[[12438     1]\n",
      " [   10     0]]\n",
      "\n",
      "Fold - 8\n",
      "[[12439     0]\n",
      " [   10     0]]\n",
      "\n",
      "Fold - 9\n",
      "[[12438     0]\n",
      " [   10     0]]\n",
      "\n",
      "Fold - 10\n",
      "[[12438     0]\n",
      " [   10     0]]\n",
      "\n"
     ]
    },
    {
     "data": {
      "text/html": [
       "<table>\n",
       "<tbody>\n",
       "<tr><td>MODEL</td><td>SAMPLING</td><td>ESTIMATORS</td><td>DEPTH</td><td>NEIGHBORS</td><td>VARS</td><td>T_ACC</td><td>ACC. </td><td>PRE.</td><td>REC.</td><td>FPR.</td><td>F1 </td><td>ERR.</td><td>TP </td><td>TN     </td><td>FP  </td><td>VARS.                                                                                                           </td></tr>\n",
       "<tr><td>RF   </td><td>NO      </td><td>100       </td><td>7    </td><td>0        </td><td>8   </td><td>99.92</td><td>99.91</td><td>nan </td><td>0.0 </td><td>0.0 </td><td>nan</td><td>0.09</td><td>0.0</td><td>12438.7</td><td>10.0</td><td>['attribute1', 'attribute2', 'attribute3', 'attribute4', 'attribute5', 'attribute6', 'attribute7', 'attribute9']</td></tr>\n",
       "</tbody>\n",
       "</table>"
      ],
      "text/plain": [
       "<IPython.core.display.HTML object>"
      ]
     },
     "metadata": {},
     "output_type": "display_data"
    }
   ],
   "source": [
    "rf_summary_table = [[\"MODEL\", \"SAMPLING\", \"ESTIMATORS\", \"DEPTH\", \"NEIGHBORS\", \"VARS\", \"T_ACC\", \"ACC.\", \"PRE.\", \"REC.\", \"FPR.\", \"F1\", \"ERR.\", \"TP\", \"TN\", \"FP\", \"VARS.\"]]\n",
    "\n",
    "# Set variables to be participated in the model.\n",
    "X = dataset[['attribute1', 'attribute2', 'attribute3', 'attribute4','attribute5', 'attribute6', 'attribute7', 'attribute9']]\n",
    "Y = dataset.failure\n",
    "DEPTH = 7 # Define the max depth to 7.\n",
    "ESTIMATORS = 100 # Defind the number of decision trees to participate in voting.\n",
    "NEIGHBORS = 0\n",
    "run_model(rf_summary_table, X, Y, DEPTH, NEIGHBORS, ESTIMATORS, 'RF', 'NO') # 0 for random forest without oversampling"
   ]
  },
  {
   "cell_type": "markdown",
   "metadata": {},
   "source": [
    "The predictive model seems unable to classify devices with failure, at all. It is, kind of, an expected result for the predictive model being unable to classify devices with failure because of the nature of *'Random Forest'* learning algirhtm. *'Random Forest'* chooses varaibles and data points randomly so devices with failure in the dataset will, therefore, hardly ever gets chances to be picked for the predictive model to learn ways to failure. Even though devices with failure were picked by the algorithm, it will not help classify those devices as failure because there are devices with non-failure that have the same values.\n",
    "\n",
    "In addition, the *'traning accuracy'* is slighly higher than *'accuracy'* on *'validation dataset'*, the predictive model seems slightly overfit. \n",
    "\n",
    "The next experimentation will show the predictive model performance with only categorical variables and also no sampling techniques will be applied."
   ]
  },
  {
   "cell_type": "code",
   "execution_count": 63,
   "metadata": {},
   "outputs": [
    {
     "name": "stdout",
     "output_type": "stream",
     "text": [
      "Fold - 1\n",
      "[[12439     0]\n",
      " [   11     0]]\n",
      "\n",
      "Fold - 2\n",
      "[[12439     0]\n",
      " [   11     0]]\n",
      "\n",
      "Fold - 3\n",
      "[[12439     0]\n",
      " [   11     0]]\n",
      "\n",
      "Fold - 4\n",
      "[[12439     0]\n",
      " [   11     0]]\n",
      "\n",
      "Fold - 5\n",
      "[[12439     0]\n",
      " [   11     0]]\n",
      "\n",
      "Fold - 6\n",
      "[[12439     0]\n",
      " [   11     0]]\n",
      "\n",
      "Fold - 7\n",
      "[[12438     1]\n",
      " [   10     0]]\n",
      "\n",
      "Fold - 8\n",
      "[[12439     0]\n",
      " [   10     0]]\n",
      "\n",
      "Fold - 9\n",
      "[[12438     0]\n",
      " [   10     0]]\n",
      "\n",
      "Fold - 10\n",
      "[[12435     3]\n",
      " [   10     0]]\n",
      "\n"
     ]
    },
    {
     "data": {
      "text/html": [
       "<table>\n",
       "<tbody>\n",
       "<tr><td>MODEL</td><td>SAMPLING</td><td>ESTIMATORS</td><td>DEPTH</td><td>NEIGHBORS</td><td>VARS</td><td>T_ACC</td><td>ACC. </td><td>PRE.</td><td>REC.</td><td>FPR.</td><td>F1 </td><td>ERR.</td><td>TP </td><td>TN     </td><td>FP  </td><td>VARS.                                                                                                           </td></tr>\n",
       "<tr><td>RF   </td><td>NO      </td><td>100       </td><td>7    </td><td>0        </td><td>8   </td><td>99.92</td><td>99.91</td><td>nan </td><td>0.0 </td><td>0.0 </td><td>nan</td><td>0.09</td><td>0.0</td><td>12438.7</td><td>10.0</td><td>['attribute1', 'attribute2', 'attribute3', 'attribute4', 'attribute5', 'attribute6', 'attribute7', 'attribute9']</td></tr>\n",
       "<tr><td>RF   </td><td>NO      </td><td>100       </td><td>5    </td><td>0        </td><td>5   </td><td>99.92</td><td>99.91</td><td>nan </td><td>0.0 </td><td>0.0 </td><td>nan</td><td>0.09</td><td>0.0</td><td>12438.4</td><td>40.0</td><td>['attribute3', 'attribute4', 'attribute5', 'attribute7', 'attribute9']                                          </td></tr>\n",
       "</tbody>\n",
       "</table>"
      ],
      "text/plain": [
       "<IPython.core.display.HTML object>"
      ]
     },
     "metadata": {},
     "output_type": "display_data"
    }
   ],
   "source": [
    "# Set variables to be participated in the model.\n",
    "X = dataset[['attribute3', 'attribute4','attribute5', 'attribute7', 'attribute9']]\n",
    "Y = dataset.failure\n",
    "DEPTH = 5 # Define the max depth to 7.\n",
    "ESTIMATORS = 100 # Defind the number of decision trees to participate in voting.\n",
    "NEIGHBORS = 0\n",
    "run_model(rf_summary_table, X, Y, DEPTH, NEIGHBORS, ESTIMATORS, 'RF', 'NO') # 0 for random forest without oversampling"
   ]
  },
  {
   "cell_type": "code",
   "execution_count": 64,
   "metadata": {},
   "outputs": [
    {
     "name": "stdout",
     "output_type": "stream",
     "text": [
      "Fold - 1\n",
      "[[12439     0]\n",
      " [   11     0]]\n",
      "\n",
      "Fold - 2\n",
      "[[12439     0]\n",
      " [   11     0]]\n",
      "\n",
      "Fold - 3\n",
      "[[12439     0]\n",
      " [   11     0]]\n",
      "\n",
      "Fold - 4\n",
      "[[12439     0]\n",
      " [   11     0]]\n",
      "\n",
      "Fold - 5\n",
      "[[12439     0]\n",
      " [   11     0]]\n",
      "\n",
      "Fold - 6\n",
      "[[12439     0]\n",
      " [   11     0]]\n",
      "\n",
      "Fold - 7\n",
      "[[12438     1]\n",
      " [   10     0]]\n",
      "\n",
      "Fold - 8\n",
      "[[12439     0]\n",
      " [   10     0]]\n",
      "\n",
      "Fold - 9\n",
      "[[12438     0]\n",
      " [   10     0]]\n",
      "\n",
      "Fold - 10\n",
      "[[12438     0]\n",
      " [   10     0]]\n",
      "\n"
     ]
    },
    {
     "data": {
      "text/html": [
       "<table>\n",
       "<tbody>\n",
       "<tr><td>MODEL</td><td>SAMPLING</td><td>ESTIMATORS</td><td>DEPTH</td><td>NEIGHBORS</td><td>VARS</td><td>T_ACC</td><td>ACC. </td><td>PRE.</td><td>REC.</td><td>FPR.</td><td>F1 </td><td>ERR.</td><td>TP </td><td>TN     </td><td>FP  </td><td>VARS.                                                                                                           </td></tr>\n",
       "<tr><td>RF   </td><td>NO      </td><td>100       </td><td>7    </td><td>0        </td><td>8   </td><td>99.92</td><td>99.91</td><td>nan </td><td>0.0 </td><td>0.0 </td><td>nan</td><td>0.09</td><td>0.0</td><td>12438.7</td><td>10.0</td><td>['attribute1', 'attribute2', 'attribute3', 'attribute4', 'attribute5', 'attribute6', 'attribute7', 'attribute9']</td></tr>\n",
       "<tr><td>RF   </td><td>NO      </td><td>100       </td><td>5    </td><td>0        </td><td>5   </td><td>99.92</td><td>99.91</td><td>nan </td><td>0.0 </td><td>0.0 </td><td>nan</td><td>0.09</td><td>0.0</td><td>12438.4</td><td>40.0</td><td>['attribute3', 'attribute4', 'attribute5', 'attribute7', 'attribute9']                                          </td></tr>\n",
       "<tr><td>RF   </td><td>NO      </td><td>100       </td><td>3    </td><td>0        </td><td>3   </td><td>99.91</td><td>99.91</td><td>nan </td><td>0.0 </td><td>0.0 </td><td>nan</td><td>0.09</td><td>0.0</td><td>12438.7</td><td>10.0</td><td>['attribute4', 'attribute5', 'attribute7']                                                                      </td></tr>\n",
       "</tbody>\n",
       "</table>"
      ],
      "text/plain": [
       "<IPython.core.display.HTML object>"
      ]
     },
     "metadata": {},
     "output_type": "display_data"
    }
   ],
   "source": [
    "# Set variables to be participated in the model.\n",
    "X = dataset[['attribute4','attribute5', 'attribute7']]\n",
    "Y = dataset.failure\n",
    "DEPTH = 3 # Define the max depth to 7.\n",
    "ESTIMATORS = 100 # Defind the number of decision trees to participate in voting.\n",
    "NEIGHBORS = 0\n",
    "run_model(rf_summary_table, X, Y, DEPTH, NEIGHBORS, ESTIMATORS, 'RF', 'NO') # 0 for random forest without oversampling"
   ]
  },
  {
   "cell_type": "markdown",
   "metadata": {},
   "source": [
    "No matter what combinations of variables are attempted, it seems hard for the predictive model to pick devices with failure without sampling techniques."
   ]
  },
  {
   "cell_type": "code",
   "execution_count": null,
   "metadata": {},
   "outputs": [],
   "source": []
  }
 ],
 "metadata": {
  "kernelspec": {
   "display_name": "aws-test4",
   "language": "python",
   "name": "aws-test4"
  },
  "language_info": {
   "codemirror_mode": {
    "name": "ipython",
    "version": 3
   },
   "file_extension": ".py",
   "mimetype": "text/x-python",
   "name": "python",
   "nbconvert_exporter": "python",
   "pygments_lexer": "ipython3",
   "version": "3.5.6"
  }
 },
 "nbformat": 4,
 "nbformat_minor": 2
}
