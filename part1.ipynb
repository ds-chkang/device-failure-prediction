{
 "cells": [
  {
   "cell_type": "markdown",
   "metadata": {},
   "source": [
    "***Creator: Changhee Kang***"
   ]
  },
  {
   "cell_type": "markdown",
   "metadata": {},
   "source": [
    "**Part 1 - Studying unknown variables with assumptions**"
   ]
  },
  {
   "cell_type": "markdown",
   "metadata": {},
   "source": [
    "**Note that** data manupulation and exploration techniques illustrated in this demonstraton does not mean that the audience have to follow the same ways as shown here. "
   ]
  },
  {
   "cell_type": "markdown",
   "metadata": {},
   "source": [
    "# Device Failure and Maintenance Prediction Model"
   ]
  },
  {
   "cell_type": "markdown",
   "metadata": {},
   "source": [
    "It is to build a predictive model with diagnoses of telemetry attributes to classify whether maintenance should be performed on devices or not. The column used for prediction is set with the column name, \"failure\",  with binary value 0 for \"non-failure\" and 1 for \"failure\". ***The goal is to minimize false positives and false negatives.***"
   ]
  },
  {
   "cell_type": "markdown",
   "metadata": {},
   "source": [
    "# Assumptions"
   ]
  },
  {
   "cell_type": "markdown",
   "metadata": {},
   "source": [
    "As there is no meta data that describes the current dataset, assumptions can be applied to the current dataset. The dataset consists of diagnoses of telemetry attributes, so it might be rational that some variables are assumed to consist of *categorical nominal type values* while other variables would consist of *continuous type values*. "
   ]
  },
  {
   "cell_type": "markdown",
   "metadata": {},
   "source": [
    "# Roadmap"
   ]
  },
  {
   "cell_type": "markdown",
   "metadata": {},
   "source": [
    "This demonstration is to show how to handle datasets which are imbalanced. The provided dataset has no  description for variables. The dataset will be analyzed by using various statistical approaches. The main issue with the current dataset is that it is highly imblanaced. Imbalanced datasets are difficult to handle for a predictive model especially when there is really a small number of data points for the minority class in the dataset.\n",
    "\n",
    "Various sampling techniques usually applied to the imbalanced dataset for a cure to build a predictive model with it. There will be detailed explanations for each sampling technique as the analyses progresses further. In this demonstration, data exploration will only be extensively explained. In the following successive sections, first, no sampling technique will be applied in this demonstration to understand how sampling techniques will affect performances of the predictive model on an imblanaces dataset. Although data preprocessing is done for most datasets but there will be no data preprocessing for this demonstration. \n",
    "\n",
    "Additive variable generations such as day, day of the week, month, device operation days, or season from the *'date'* variable could be an option to enhance the model performance. However, additivie variable generations does not always have to be applied to introduce new variables to the original dataset, unless there is any acceptable model performance with the orginal dataset. One could introduce additive variables before any model development but there is no guarantee that those additive variables are going to improve the model performances. \n",
    "\n",
    "However, it should be noted that normalizations for continuous values shoud not be confused with additive variable generations. One might be also tempted to apply binning to continuous values but it sould be applied when there is some group or some groups of values that are significantly different from other groups of values in a continuous variable. Otherwise, binning would not be much help and it will only cause lose of information of continuity in the values. Distribution transformations, for example, log-normal transformation, could be used but it is not neccessary to be applied for Randome Forest learning algorithm. It all depends on what the analyzer intend to do with the dataset.\n",
    "\n",
    "Logsitic Regression and Neural Network based algorithms could also have been used but assuming that values of some variables are categorical nominal type values, to properly use those algorithms, creating dummy or one-hot-encoded variables for those algorithms simply overwhelms contraints on the given task. Therefore, for the predictive model development, instead of using Losigitic Regression or Neural Network based algorithms, Random Forest predictive model learning algorhtm will be adopted because Random Forest can handle very well for both categorical nominal type values and continuous type values at the same time. In addition, Random Forest does not necessarily require continuous type values to be normalized."
   ]
  },
  {
   "cell_type": "markdown",
   "metadata": {},
   "source": [
    "# Data Loading"
   ]
  },
  {
   "cell_type": "markdown",
   "metadata": {},
   "source": [
    "import necessary python modules to load the current dataset into memory."
   ]
  },
  {
   "cell_type": "code",
   "execution_count": 25,
   "metadata": {},
   "outputs": [],
   "source": [
    "import pandas as pd\n",
    "import numpy as np"
   ]
  },
  {
   "cell_type": "markdown",
   "metadata": {},
   "source": [
    "Load the dataset into memory."
   ]
  },
  {
   "cell_type": "code",
   "execution_count": 26,
   "metadata": {},
   "outputs": [],
   "source": [
    "datafile = r'/home/thomas/Downloads/device_failure.csv'\n",
    "dataset = pd.read_csv(datafile, sep=',', engine='python')"
   ]
  },
  {
   "cell_type": "markdown",
   "metadata": {},
   "source": [
    "# Data Exploration"
   ]
  },
  {
   "cell_type": "markdown",
   "metadata": {},
   "source": [
    "See if the dataset has been loaded correctly. There should be 12 columns meaning 12 variables. "
   ]
  },
  {
   "cell_type": "code",
   "execution_count": 3,
   "metadata": {},
   "outputs": [
    {
     "data": {
      "text/html": [
       "<div>\n",
       "<style scoped>\n",
       "    .dataframe tbody tr th:only-of-type {\n",
       "        vertical-align: middle;\n",
       "    }\n",
       "\n",
       "    .dataframe tbody tr th {\n",
       "        vertical-align: top;\n",
       "    }\n",
       "\n",
       "    .dataframe thead th {\n",
       "        text-align: right;\n",
       "    }\n",
       "</style>\n",
       "<table border=\"1\" class=\"dataframe\">\n",
       "  <thead>\n",
       "    <tr style=\"text-align: right;\">\n",
       "      <th></th>\n",
       "      <th>date</th>\n",
       "      <th>device</th>\n",
       "      <th>failure</th>\n",
       "      <th>attribute1</th>\n",
       "      <th>attribute2</th>\n",
       "      <th>attribute3</th>\n",
       "      <th>attribute4</th>\n",
       "      <th>attribute5</th>\n",
       "      <th>attribute6</th>\n",
       "      <th>attribute7</th>\n",
       "      <th>attribute8</th>\n",
       "      <th>attribute9</th>\n",
       "    </tr>\n",
       "  </thead>\n",
       "  <tbody>\n",
       "    <tr>\n",
       "      <td>0</td>\n",
       "      <td>2015-01-01</td>\n",
       "      <td>S1F01085</td>\n",
       "      <td>0</td>\n",
       "      <td>215630672</td>\n",
       "      <td>56</td>\n",
       "      <td>0</td>\n",
       "      <td>52</td>\n",
       "      <td>6</td>\n",
       "      <td>407438</td>\n",
       "      <td>0</td>\n",
       "      <td>0</td>\n",
       "      <td>7</td>\n",
       "    </tr>\n",
       "    <tr>\n",
       "      <td>1</td>\n",
       "      <td>2015-01-01</td>\n",
       "      <td>S1F0166B</td>\n",
       "      <td>0</td>\n",
       "      <td>61370680</td>\n",
       "      <td>0</td>\n",
       "      <td>3</td>\n",
       "      <td>0</td>\n",
       "      <td>6</td>\n",
       "      <td>403174</td>\n",
       "      <td>0</td>\n",
       "      <td>0</td>\n",
       "      <td>0</td>\n",
       "    </tr>\n",
       "    <tr>\n",
       "      <td>2</td>\n",
       "      <td>2015-01-01</td>\n",
       "      <td>S1F01E6Y</td>\n",
       "      <td>0</td>\n",
       "      <td>173295968</td>\n",
       "      <td>0</td>\n",
       "      <td>0</td>\n",
       "      <td>0</td>\n",
       "      <td>12</td>\n",
       "      <td>237394</td>\n",
       "      <td>0</td>\n",
       "      <td>0</td>\n",
       "      <td>0</td>\n",
       "    </tr>\n",
       "    <tr>\n",
       "      <td>3</td>\n",
       "      <td>2015-01-01</td>\n",
       "      <td>S1F01JE0</td>\n",
       "      <td>0</td>\n",
       "      <td>79694024</td>\n",
       "      <td>0</td>\n",
       "      <td>0</td>\n",
       "      <td>0</td>\n",
       "      <td>6</td>\n",
       "      <td>410186</td>\n",
       "      <td>0</td>\n",
       "      <td>0</td>\n",
       "      <td>0</td>\n",
       "    </tr>\n",
       "    <tr>\n",
       "      <td>4</td>\n",
       "      <td>2015-01-01</td>\n",
       "      <td>S1F01R2B</td>\n",
       "      <td>0</td>\n",
       "      <td>135970480</td>\n",
       "      <td>0</td>\n",
       "      <td>0</td>\n",
       "      <td>0</td>\n",
       "      <td>15</td>\n",
       "      <td>313173</td>\n",
       "      <td>0</td>\n",
       "      <td>0</td>\n",
       "      <td>3</td>\n",
       "    </tr>\n",
       "  </tbody>\n",
       "</table>\n",
       "</div>"
      ],
      "text/plain": [
       "         date    device  failure  attribute1  attribute2  attribute3  \\\n",
       "0  2015-01-01  S1F01085        0   215630672          56           0   \n",
       "1  2015-01-01  S1F0166B        0    61370680           0           3   \n",
       "2  2015-01-01  S1F01E6Y        0   173295968           0           0   \n",
       "3  2015-01-01  S1F01JE0        0    79694024           0           0   \n",
       "4  2015-01-01  S1F01R2B        0   135970480           0           0   \n",
       "\n",
       "   attribute4  attribute5  attribute6  attribute7  attribute8  attribute9  \n",
       "0          52           6      407438           0           0           7  \n",
       "1           0           6      403174           0           0           0  \n",
       "2           0          12      237394           0           0           0  \n",
       "3           0           6      410186           0           0           0  \n",
       "4           0          15      313173           0           0           3  "
      ]
     },
     "execution_count": 3,
     "metadata": {},
     "output_type": "execute_result"
    }
   ],
   "source": [
    "dataset.head()"
   ]
  },
  {
   "cell_type": "markdown",
   "metadata": {},
   "source": [
    "Let's take a look at the data types of the dataset."
   ]
  },
  {
   "cell_type": "code",
   "execution_count": 304,
   "metadata": {},
   "outputs": [
    {
     "data": {
      "text/plain": [
       "date          object\n",
       "device        object\n",
       "failure        int64\n",
       "attribute1     int64\n",
       "attribute2     int64\n",
       "attribute3     int64\n",
       "attribute4     int64\n",
       "attribute5     int64\n",
       "attribute6     int64\n",
       "attribute7     int64\n",
       "attribute8     int64\n",
       "attribute9     int64\n",
       "dtype: object"
      ]
     },
     "execution_count": 304,
     "metadata": {},
     "output_type": "execute_result"
    }
   ],
   "source": [
    "dataset.dtypes"
   ]
  },
  {
   "cell_type": "markdown",
   "metadata": {},
   "source": [
    "Except *'date'* and *'device'*, all other variables are composed of integer numbers, so there will no extra needs to encode values in each variable. Although other encoding schems, for example, meaning encoding and reduced categorical nominal value encoding, could also be applied to the dataset, in this demonstration, there will be no data preprocessing will be applied, so the current numerical encodings for values of each variable will be left as they are. "
   ]
  },
  {
   "cell_type": "markdown",
   "metadata": {},
   "source": [
    "Take a look at the number of total records."
   ]
  },
  {
   "cell_type": "code",
   "execution_count": 4,
   "metadata": {},
   "outputs": [
    {
     "data": {
      "text/plain": [
       "124494"
      ]
     },
     "execution_count": 4,
     "metadata": {},
     "output_type": "execute_result"
    }
   ],
   "source": [
    "dataset.failure.count()"
   ]
  },
  {
   "cell_type": "markdown",
   "metadata": {},
   "source": [
    "Take a look at the data structure."
   ]
  },
  {
   "cell_type": "code",
   "execution_count": 5,
   "metadata": {},
   "outputs": [
    {
     "data": {
      "text/plain": [
       "date          object\n",
       "device        object\n",
       "failure        int64\n",
       "attribute1     int64\n",
       "attribute2     int64\n",
       "attribute3     int64\n",
       "attribute4     int64\n",
       "attribute5     int64\n",
       "attribute6     int64\n",
       "attribute7     int64\n",
       "attribute8     int64\n",
       "attribute9     int64\n",
       "dtype: object"
      ]
     },
     "execution_count": 5,
     "metadata": {},
     "output_type": "execute_result"
    }
   ],
   "source": [
    "dataset.dtypes"
   ]
  },
  {
   "cell_type": "markdown",
   "metadata": {},
   "source": [
    "There are 12 variables in the dataset. All of the variables in the dataset are all integer values except date and device variables. Let's take a look at the distribution of the dataset in terms of failure and non-failure."
   ]
  },
  {
   "cell_type": "code",
   "execution_count": 6,
   "metadata": {},
   "outputs": [],
   "source": [
    "value_distribution = dataset.failure.value_counts()"
   ]
  },
  {
   "cell_type": "code",
   "execution_count": 7,
   "metadata": {},
   "outputs": [
    {
     "name": "stdout",
     "output_type": "stream",
     "text": [
      "Non-failure: 124388 [99.91%]\n",
      "Failure: 106 [0.09%]\n"
     ]
    }
   ],
   "source": [
    "print(\"Non-failure: {} [{:.2f}%]\".format(value_distribution[0], (value_distribution[0]/dataset.failure.count())*100))\n",
    "print(\"Failure: {} [{:.2f}%]\".format(value_distribution[1], (value_distribution[1]/dataset.failure.count())*100))"
   ]
  },
  {
   "cell_type": "code",
   "execution_count": 305,
   "metadata": {},
   "outputs": [
    {
     "data": {
      "text/plain": [
       "<matplotlib.axes._subplots.AxesSubplot at 0x7f50bb827ef0>"
      ]
     },
     "execution_count": 305,
     "metadata": {},
     "output_type": "execute_result"
    },
    {
     "data": {
      "image/png": "[encoded data removed]",
      "text/plain": [
       "<Figure size 1296x252 with 1 Axes>"
      ]
     },
     "metadata": {
      "needs_background": "light"
     },
     "output_type": "display_data"
    }
   ],
   "source": [
    "value_distribution.plot(kind='bar')"
   ]
  },
  {
   "cell_type": "markdown",
   "metadata": {},
   "source": [
    "The number of device failures is less than 0.1% and the dataset appears to be highly imbalanced. As shown above, there are 12 varaibles. Failure is the target variable and 11 variables are considered to be independent variables. All the independent variables seems to be integers. The next things to do is to see if there are any null values or missing values in columns of the dataset. The following two lines will figure out if there any null and missing values in the dataset."
   ]
  },
  {
   "cell_type": "code",
   "execution_count": 30,
   "metadata": {},
   "outputs": [
    {
     "data": {
      "text/plain": [
       "date          False\n",
       "device        False\n",
       "failure       False\n",
       "attribute1    False\n",
       "attribute2    False\n",
       "attribute3    False\n",
       "attribute4    False\n",
       "attribute5    False\n",
       "attribute6    False\n",
       "attribute7    False\n",
       "attribute8    False\n",
       "attribute9    False\n",
       "dtype: bool"
      ]
     },
     "execution_count": 30,
     "metadata": {},
     "output_type": "execute_result"
    }
   ],
   "source": [
    "dataset.isnull().any()"
   ]
  },
  {
   "cell_type": "code",
   "execution_count": 31,
   "metadata": {},
   "outputs": [
    {
     "data": {
      "text/plain": [
       "date          False\n",
       "device        False\n",
       "failure       False\n",
       "attribute1    False\n",
       "attribute2    False\n",
       "attribute3    False\n",
       "attribute4    False\n",
       "attribute5    False\n",
       "attribute6    False\n",
       "attribute7    False\n",
       "attribute8    False\n",
       "attribute9    False\n",
       "dtype: bool"
      ]
     },
     "execution_count": 31,
     "metadata": {},
     "output_type": "execute_result"
    }
   ],
   "source": [
    "dataset.isna().any()"
   ]
  },
  {
   "cell_type": "markdown",
   "metadata": {},
   "source": [
    "In order to confirm that there are no missing and null values in every variable, the following can be executed for a list of all the summations of each column:"
   ]
  },
  {
   "cell_type": "code",
   "execution_count": 32,
   "metadata": {},
   "outputs": [
    {
     "data": {
      "text/plain": [
       "date          0\n",
       "device        0\n",
       "failure       0\n",
       "attribute1    0\n",
       "attribute2    0\n",
       "attribute3    0\n",
       "attribute4    0\n",
       "attribute5    0\n",
       "attribute6    0\n",
       "attribute7    0\n",
       "attribute8    0\n",
       "attribute9    0\n",
       "dtype: int64"
      ]
     },
     "execution_count": 32,
     "metadata": {},
     "output_type": "execute_result"
    }
   ],
   "source": [
    "dataset.isnull().sum()"
   ]
  },
  {
   "cell_type": "markdown",
   "metadata": {},
   "source": [
    "It is clear to say that there are no null values in the dataset. Currently the meaning of each variable is unknown and it is definitely required to explore each variable to find out what each variable would mean. There are 106 samples, approaximately 0.0852%, indicating failure. The above distribution shows that the dataset is perfectly imbalanced. In order to grasp the overall representation of the dataset, it is favorable to look into the characteristics of each variable, first. The following lines will first reveal the number of unique values in each variable and will give an overall idea of how each variable contributes to failure and non-failure."
   ]
  },
  {
   "cell_type": "code",
   "execution_count": 169,
   "metadata": {},
   "outputs": [
    {
     "name": "stdout",
     "output_type": "stream",
     "text": [
      "date: 304 distinct values -  ['2015-01-01' '2015-01-02' '2015-01-03' '2015-01-04' '2015-01-05'\n",
      " '2015-01-06' '2015-01-07' '2015-01-08' '2015-01-09' '2015-01-10'\n",
      " '2015-01-11' '2015-01-12' '2015-01-13' '2015-01-14' '2015-01-15'\n",
      " '2015-01-16' '2015-01-17' '2015-01-18' '2015-01-19' '2015-01-20'\n",
      " '2015-01-21' '2015-01-22' '2015-01-23' '2015-01-24' '2015-01-25'\n",
      " '2015-01-26' '2015-01-27' '2015-01-28' '2015-01-29' '2015-01-30'\n",
      " '2015-01-31' '2015-02-01' '2015-02-02' '2015-02-03' '2015-02-04'\n",
      " '2015-02-05' '2015-02-06' '2015-02-07' '2015-02-08' '2015-02-09'\n",
      " '2015-02-10' '2015-02-11' '2015-02-12' '2015-02-13' '2015-02-14'\n",
      " '2015-02-15' '2015-02-16' '2015-02-17' '2015-02-18' '2015-02-19'\n",
      " '2015-02-20' '2015-02-21' '2015-02-22' '2015-02-23' '2015-02-24'\n",
      " '2015-02-25' '2015-02-26' '2015-02-27' '2015-02-28' '2015-03-01'\n",
      " '2015-03-02' '2015-03-03' '2015-03-04' '2015-03-05' '2015-03-06'\n",
      " '2015-03-07' '2015-03-08' '2015-03-09' '2015-03-10' '2015-03-11'\n",
      " '2015-03-12' '2015-03-13' '2015-03-14' '2015-03-15' '2015-03-16'\n",
      " '2015-03-17' '2015-03-18' '2015-03-19' '2015-03-20' '2015-03-21'\n",
      " '2015-03-22' '2015-03-23' '2015-03-24' '2015-03-25' '2015-03-26'\n",
      " '2015-03-27' '2015-03-28' '2015-03-29' '2015-03-30' '2015-03-31'\n",
      " '2015-04-01' '2015-04-02' '2015-04-03' '2015-04-04' '2015-04-05'\n",
      " '2015-04-06' '2015-04-07' '2015-04-08' '2015-04-09' '2015-04-10'\n",
      " '2015-04-11' '2015-04-12' '2015-04-13' '2015-04-14' '2015-04-15'\n",
      " '2015-04-16' '2015-04-17' '2015-04-18' '2015-04-19' '2015-04-20'\n",
      " '2015-04-21' '2015-04-22' '2015-04-23' '2015-04-24' '2015-04-25'\n",
      " '2015-04-26' '2015-04-27' '2015-04-28' '2015-04-29' '2015-04-30'\n",
      " '2015-05-01' '2015-05-02' '2015-05-03' '2015-05-04' '2015-05-05'\n",
      " '2015-05-06' '2015-05-07' '2015-05-08' '2015-05-09' '2015-05-10'\n",
      " '2015-05-11' '2015-05-12' '2015-05-13' '2015-05-14' '2015-05-15'\n",
      " '2015-05-16' '2015-05-17' '2015-05-18' '2015-05-19' '2015-05-20'\n",
      " '2015-05-21' '2015-05-22' '2015-05-23' '2015-05-24' '2015-05-25'\n",
      " '2015-05-26' '2015-05-27' '2015-05-28' '2015-05-29' '2015-05-30'\n",
      " '2015-05-31' '2015-06-01' '2015-06-02' '2015-06-03' '2015-06-04'\n",
      " '2015-06-05' '2015-06-06' '2015-06-07' '2015-06-08' '2015-06-09'\n",
      " '2015-06-10' '2015-06-11' '2015-06-12' '2015-06-13' '2015-06-14'\n",
      " '2015-06-15' '2015-06-16' '2015-06-17' '2015-06-18' '2015-06-19'\n",
      " '2015-06-20' '2015-06-21' '2015-06-22' '2015-06-23' '2015-06-24'\n",
      " '2015-06-25' '2015-06-26' '2015-06-27' '2015-06-28' '2015-06-29'\n",
      " '2015-06-30' '2015-07-01' '2015-07-02' '2015-07-03' '2015-07-04'\n",
      " '2015-07-05' '2015-07-06' '2015-07-07' '2015-07-08' '2015-07-09'\n",
      " '2015-07-10' '2015-07-11' '2015-07-12' '2015-07-13' '2015-07-14'\n",
      " '2015-07-15' '2015-07-16' '2015-07-17' '2015-07-18' '2015-07-19'\n",
      " '2015-07-20' '2015-07-21' '2015-07-22' '2015-07-23' '2015-07-24'\n",
      " '2015-07-25' '2015-07-26' '2015-07-27' '2015-07-28' '2015-07-29'\n",
      " '2015-07-30' '2015-07-31' '2015-08-01' '2015-08-02' '2015-08-03'\n",
      " '2015-08-04' '2015-08-05' '2015-08-06' '2015-08-07' '2015-08-08'\n",
      " '2015-08-09' '2015-08-10' '2015-08-11' '2015-08-12' '2015-08-13'\n",
      " '2015-08-14' '2015-08-15' '2015-08-16' '2015-08-17' '2015-08-18'\n",
      " '2015-08-19' '2015-08-20' '2015-08-21' '2015-08-22' '2015-08-23'\n",
      " '2015-08-24' '2015-08-25' '2015-08-26' '2015-08-27' '2015-08-28'\n",
      " '2015-08-29' '2015-08-30' '2015-08-31' '2015-09-01' '2015-09-02'\n",
      " '2015-09-03' '2015-09-04' '2015-09-05' '2015-09-06' '2015-09-07'\n",
      " '2015-09-08' '2015-09-09' '2015-09-10' '2015-09-11' '2015-09-12'\n",
      " '2015-09-13' '2015-09-14' '2015-09-15' '2015-09-16' '2015-09-17'\n",
      " '2015-09-18' '2015-09-19' '2015-09-20' '2015-09-21' '2015-09-22'\n",
      " '2015-09-23' '2015-09-24' '2015-09-25' '2015-09-26' '2015-09-27'\n",
      " '2015-09-28' '2015-09-29' '2015-09-30' '2015-10-01' '2015-10-02'\n",
      " '2015-10-03' '2015-10-04' '2015-10-05' '2015-10-06' '2015-10-07'\n",
      " '2015-10-08' '2015-10-09' '2015-10-10' '2015-10-11' '2015-10-12'\n",
      " '2015-10-13' '2015-10-14' '2015-10-15' '2015-10-16' '2015-10-17'\n",
      " '2015-10-18' '2015-10-19' '2015-10-20' '2015-10-21' '2015-10-22'\n",
      " '2015-10-23' '2015-10-24' '2015-10-25' '2015-10-26' '2015-10-27'\n",
      " '2015-10-29' '2015-10-30' '2015-10-31' '2015-11-02']\n",
      "device: 1169 distinct values -  ['S1F01085' 'S1F013BB' 'S1F0166B' ... 'Z1F26YZB' 'Z1F282ZV' 'Z1F2PBHX']\n",
      "failure: 2 distinct values -  [0 1]\n",
      "attribute1: 123877 distinct values -  [        0      2048      2056 ... 244136552 244138600 244140480]\n",
      "attribute2: 558 distinct values -  [    0     8    16    24    32    40    48    56    64    72    80    88\n",
      "    96   104   112   120   128   136   144   152   160   168   176   184\n",
      "   192   200   208   216   224   232   240   248   256   264   272   280\n",
      "   288   296   304   320   328   336   344   352   360   368   376   384\n",
      "   392   400   408   416   424   432   440   448   456   464   472   480\n",
      "   488   496   504   512   520   528   536   544   552   560   568   576\n",
      "   584   592   600   608   616   624   632   640   648   656   664   672\n",
      "   680   704   712   728   736   744   752   760   776   792   800   808\n",
      "   816   824   832   840   848   864   872   888   896   912   920   928\n",
      "   936   944   952   960   968   976   984   992  1000  1024  1032  1040\n",
      "  1048  1056  1064  1072  1080  1088  1096  1104  1112  1120  1128  1136\n",
      "  1144  1152  1160  1176  1184  1192  1200  1208  1232  1240  1248  1256\n",
      "  1264  1280  1288  1296  1312  1320  1336  1360  1376  1392  1400  1416\n",
      "  1424  1440  1464  1480  1488  1504  1536  1552  1560  1568  1576  1584\n",
      "  1592  1600  1616  1624  1632  1648  1656  1664  1672  1720  1744  1752\n",
      "  1768  1776  1800  1808  1816  1832  1840  1848  1864  1880  1888  1912\n",
      "  1920  1928  1936  1944  1952  1960  1968  1976  1984  1992  2000  2008\n",
      "  2016  2024  2032  2040  2048  2056  2064  2072  2096  2104  2144  2192\n",
      "  2208  2232  2248  2256  2272  2280  2288  2296  2304  2320  2328  2336\n",
      "  2344  2352  2360  2368  2376  2384  2392  2400  2416  2424  2432  2440\n",
      "  2448  2456  2464  2472  2480  2488  2496  2520  2528  2536  2544  2552\n",
      "  2568  2576  2600  2608  2616  2640  2648  2656  2664  2704  2712  2720\n",
      "  2744  2768  2784  2792  2808  2816  2824  2832  2848  2856  2880  2904\n",
      "  2912  2920  2936  2944  2984  2992  3000  3016  3032  3040  3048  3064\n",
      "  3072  3080  3096  3104  3112  3128  3136  3144  3152  3160  3200  3216\n",
      "  3248  3272  3288  3352  3376  3432  3440  3456  3472  3488  3512  3528\n",
      "  3536  3552  3576  3584  3592  3600  3608  3616  3624  3696  3800  3840\n",
      "  3848  4072  4080  4160  4240  4248  4264  4280  4304  4312  4360  4440\n",
      "  4448  4456  4464  4472  4488  4496  4512  4536  4768  4792  4808  4816\n",
      "  4832  4920  4960  5160  5184  5192  5560  5624  6048  6080  6096  6128\n",
      "  6176  6216  6248  6264  6272  6280  6288  6304  6328  6336  6344  6352\n",
      "  6360  6368  6376  6416  6464  6472  6480  6504  6544  6656  6680  6720\n",
      "  6744  6792  6800  6808  6856  6912  6992  7024  7096  7128  7160  7216\n",
      "  7240  7344  7384  7400  7440  7448  7456  7504  7520  7544  7552  7624\n",
      "  7640  7648  7672  7680  7712  7752  7768  7800  7808  7888  7904  7928\n",
      "  7944  7960  7968  7976  8064  8104  8120  8136  8160  8392  8480  8488\n",
      "  8520  8528  8536  8544  8688  8760  9008  9264  9536  9592  9848  9920\n",
      "  9952  9960  9984 10024 10064 10096 10168 10184 10200 10232 10248 10288\n",
      " 10304 10328 10336 10344 10352 10360 10368 10376 10384 10392 10440 10448\n",
      " 10592 10648 11216 11432 11856 11872 11880 11888 12360 12928 13088 13560\n",
      " 14856 14904 14920 15304 15328 15336 16408 16864 17408 17704 18072 19200\n",
      " 21200 21528 21544 21816 21928 21944 22816 23208 23400 23936 24656 24680\n",
      " 24792 24904 24920 24976 24984 27856 28344 32936 33000 33016 33024 33528\n",
      " 34912 35616 37936 41232 43712 44008 44024 44152 44176 44224 44232 46264\n",
      " 46280 46296 46304 46328 46400 46408 46496 46520 46584 46848 46872 47944\n",
      " 49768 49840 51976 54752 54896 56584 56736 61592 62296 64464 64472 64584\n",
      " 64728 64736 64776 64784 64792 64968]\n",
      "attribute3: 47 distinct values -  [    0     1     2     3     4     5     7     8     9    10    11    12\n",
      "    14    15    16    18    21    24    25    34    35    36    38    53\n",
      "    56    61    62    70    72   100   107   208   220   263   266   279\n",
      "   318   323   377   382   406  1162  1326  1331  2112  2693 24929]\n",
      "attribute4: 115 distinct values -  [   0    1    2    3    4    5    6    7    8    9   10   11   12   13\n",
      "   14   15   16   17   18   19   20   21   22   23   24   25   26   27\n",
      "   28   29   30   31   32   34   35   36   37   38   39   40   41   43\n",
      "   44   45   46   48   49   50   51   52   53   55   56   57   58   60\n",
      "   62   65   67   69   73   74   76   79   80   86   90   91   94   95\n",
      "   97  100  108  112  118  121  122  128  129  135  147  160  164  173\n",
      "  175  186  204  214  215  235  236  256  288  297  299  300  305  322\n",
      "  331  399  400  401  405  406  431  486  487  521  529  533  763  841\n",
      " 1033 1074 1666]\n",
      "attribute5: 60 distinct values -  [ 1  2  3  4  5  6  7  8  9 10 11 12 13 14 15 16 17 18 19 20 21 22 23 24\n",
      " 25 29 30 31 32 33 34 35 36 37 38 39 40 41 42 57 58 59 60 61 62 63 64 65\n",
      " 66 67 68 70 78 89 90 91 92 94 95 98]\n",
      "attribute6: 44838 distinct values -  [     8      9     12 ... 689035 689062 689161]\n",
      "attribute7: 28 distinct values -  [  0   6   8  16  22  24  32  40  48  56  72  80  96 104 112 128 136 152\n",
      " 176 216 240 272 312 424 496 736 744 832]\n",
      "attribute8: 28 distinct values -  [  0   6   8  16  22  24  32  40  48  56  72  80  96 104 112 128 136 152\n",
      " 176 216 240 272 312 424 496 736 744 832]\n",
      "attribute9: 65 distinct values -  [    0     1     2     3     4     5     6     7     8     9    10    11\n",
      "    12    13    14    15    18    19    20    21    22    23    24    25\n",
      "    26    30    33    34    38    41    42    51    52    57    65    70\n",
      "    98   104   120   145   155   164   177   205   222   233   241   248\n",
      "   255   263   269   400   898  1080  1150  1165  1864  2269  2270  2522\n",
      "  2637  2794  7226 10137 18701]\n"
     ]
    }
   ],
   "source": [
    "# Show distinct values of each variable.\n",
    "columns = dataset.columns\n",
    "no_unique_values = []\n",
    "for column in columns:\n",
    "    unique_values = np.unique(dataset[column])\n",
    "    print('{}: {} distinct values -  {}'.format(column, len(unique_values), unique_values))\n",
    "    no_unique_values.append(len(unique_values))"
   ]
  },
  {
   "cell_type": "markdown",
   "metadata": {},
   "source": [
    "**Summary of unique values**"
   ]
  },
  {
   "cell_type": "markdown",
   "metadata": {},
   "source": [
    "- date : 304 unique values.\n",
    "- devce: 1,169 unique values.\n",
    "- attribute1: 123,877 unique values.\n",
    "- attribute2: 558 unique values.\n",
    "- attribute3: 47 unique values.\n",
    "- attribute4: 115 unique values.\n",
    "- attribute5: 60 unique values.\n",
    "- attribute6: 44,838 unique values.\n",
    "- attribute7: 28 unique values.\n",
    "- attribute9: 65 unique values."
   ]
  },
  {
   "cell_type": "markdown",
   "metadata": {},
   "source": [
    "For a dataset with a large number of variables, it would be extremly hard to manually look at all the values of each variable in the dataset. Nonetheless, data exploration for understanding characteristics of individual variables is mandatory to undergo when a story telling about the current dataset is required. However, the current dataset only has 9 variables excluding *'date'*, *'device'*, and *'failure'* variables, so it is reasonble to look at individual characteristics of unique values of each variable.\n",
    "\n",
    "- *'attribute1'* and *'attribute6'* have relatively high numbers of unique values while numbers of unique values for other values are small. Those two variables must have a lot of ways for the predictive model to learn non-failures of devices. The predictive model must not only know how to tell devices with failure but it also has to learn ways to failure, too. A brief unique value summary will help grasp a further picture of the dataset.\n",
    "\n",
    "\n",
    "- The ranges of unique values of *'attribute1'* and *'attribute6'* are much broader than the ranges of unique values of other variables. \n",
    "\n",
    "\n",
    "- *'attribute7'* and *'attribute8'* seem to be idential to one another. Either of the variables, *'attribute7'* or *'attribute8'*, should be removed from analysis if those variables are used by Logistic Regression or Ordinal Regression since those two analyses strongly assume little or no multicollinearity. \n",
    "\n",
    "\n",
    "- *'attribute1'* appears to be multiples of *'attribute2'*, either of those two variables should also be remove from the dataset unless only one of them shoudl be used. Otherwise, they will cause a multicollinearity problem if Logistic Regression or Ordinal Regression analyses are implemented for the predictive model. *'attribute1'* seems to express the amount of daily data transmission handled by each device. \n",
    "\n",
    "\n",
    "- Although Logistics Regression and Ordinary Regression are not applied here, but those multi-collinearity issues should be noted. When Logsitics Regression or Ordinary Regression is undertaken, multi-collinearity tests must be performed for a reliable multi-collinearity assiciation to ensure the predictive model performance. \n",
    "\n",
    "Let's first check if *'attribute7'* and *'attribute8'* are identical to one another. "
   ]
  },
  {
   "cell_type": "code",
   "execution_count": 23,
   "metadata": {},
   "outputs": [],
   "source": [
    "# Create two different dataframes for attribute7 and attribute8.\n",
    "attribute_7 = pd.DataFrame(dataset, columns = ['attribute7'])\n",
    "attribute_8 = pd.DataFrame(dataset, columns = ['attribute8'])\n",
    "attribute_test = pd.DataFrame(dataset, columns = ['matched'])\n",
    "\n",
    "# Compare attribute7 and attribute8 by their values for each record.\n",
    "attribute_test['matched'] = pd.DataFrame(np.where(attribute_7.attribute7 == attribute_8.attribute8, 'True', 'False'))"
   ]
  },
  {
   "cell_type": "code",
   "execution_count": 24,
   "metadata": {},
   "outputs": [
    {
     "data": {
      "text/plain": [
       "True    124494\n",
       "Name: matched, dtype: int64"
      ]
     },
     "execution_count": 24,
     "metadata": {},
     "output_type": "execute_result"
    }
   ],
   "source": [
    "# See the number of matched values.\n",
    "attribute_test['matched'].value_counts()"
   ]
  },
  {
   "cell_type": "markdown",
   "metadata": {},
   "source": [
    "It is safe to say *'attribute7'* is a duplicate of *'attribute8'* or the other way around. As mentioned earlier above, if a variable is a copy of another variable, it could be problematic when the predictive model is developed using Logistic Regression Classifier since Logistic Regression assumes little or no multi-collinearity among independent variables, so either of them should be removed from the dataset or they both can stay in the dataset as long as only one of them is applied to the model development. \n",
    "\n",
    "If the model is developed by using a ensemble classfier such as Random Forest, the effect of multi-collinearity would not have much impact on the preditive model since Random Forest will create the predictive model with random selection of features at each node creation, but in general the effect is not removed completely. It could be experimented during the model development."
   ]
  },
  {
   "cell_type": "markdown",
   "metadata": {},
   "source": [
    "It would be useful if the overall number of unique values in each variable could be presented with graphical representations. A pie chart and a bar chart would do the trick to quickly understand the overall characteristics of distributions of unique values in the dataset."
   ]
  },
  {
   "cell_type": "code",
   "execution_count": 303,
   "metadata": {},
   "outputs": [],
   "source": [
    "# import matplotlib to plot graphical statistics.\n",
    "import matplotlib.pyplot as plt"
   ]
  },
  {
   "cell_type": "code",
   "execution_count": 27,
   "metadata": {},
   "outputs": [],
   "source": [
    "'''\n",
    "    It returns an array of numbers of unique values in each variable.\n",
    "'''\n",
    "def get_no_unique_values(columns):\n",
    "    no_unique_values = []\n",
    "    for column in columns:\n",
    "        no_unique_value = dataset[column].nunique()\n",
    "        no_unique_values.append(no_unique_value)\n",
    "    return no_unique_values\n",
    "\n",
    "'''\n",
    "    Plot a bar chart for the number of unique values in each variable.\n",
    "    Numbers of unique values of each variable will also be displayed on top of each bar,\n",
    "    otherwise those small values would have no way to display themselves.\n",
    "'''\n",
    "def plot_no_unique_values_bar_chart(columns):\n",
    "    no_unique_values = get_no_unique_values(columns)\n",
    "    total_no_unique_value = sum(no_unique_values)\n",
    "    percentages = []\n",
    "    \n",
    "    for value in no_unique_values:\n",
    "        percentages.append(round((value/total_no_unique_value)*100, 4))\n",
    "        \n",
    "    fig, ax = plt.subplots()\n",
    "    percent_idx = 0\n",
    "    for i, v in enumerate(no_unique_values):\n",
    "        ax.text(v + 3, i + .25, str(v)+str(\"  (\")+str(percentages[percent_idx])+str(\"%)\"), color='green')\n",
    "        percent_idx += 1\n",
    "\n",
    "    width = 0.65 # the width of the bars \n",
    "    ind = np.arange(len(no_unique_values)) \n",
    "    ax.barh(ind, no_unique_values, width, color=\"blue\")\n",
    "    ax.set_yticks(ind+width/2)\n",
    "    ax.set_yticklabels(columns, minor=False)\n",
    "    plt.title('No. of unique values by variable')\n",
    "    plt.xlabel('No. of unique values')\n",
    "    plt.ylabel('Variables') \n",
    "    plt.show()"
   ]
  },
  {
   "cell_type": "code",
   "execution_count": 31,
   "metadata": {},
   "outputs": [
    {
     "data": {
      "image/png": "[encoded data removed]",
      "text/plain": [
       "<Figure size 1296x612 with 1 Axes>"
      ]
     },
     "metadata": {
      "needs_background": "light"
     },
     "output_type": "display_data"
    }
   ],
   "source": [
    "'''\n",
    "    attribute8 is removed from the column list since it is a duplicate of attribute7.\n",
    "'''\n",
    "columns = ['date',       'device',     'attribute1',\n",
    "           'attribute2', 'attribute3', 'attribute4', \n",
    "           'attribute5', 'attribute6', 'attribute7', \n",
    "           'attribute9'] \n",
    "\n",
    "'''\n",
    "    Generate a bar chart for more details with counts of unique values in each variable. \n",
    "'''\n",
    "plt.rcParams['figure.figsize'] = (18.0, 8.5)\n",
    "plot_no_unique_values_bar_chart(columns)"
   ]
  },
  {
   "cell_type": "markdown",
   "metadata": {},
   "source": [
    "- *'attribute1'* and *'attribute6'* have large numbers of unique values while other variables have relatively small numbers of unique values. \n",
    "- Unique values of *'attribute1'* are assumed to be the amount of daily data exchange. *'attribute6'* also a large number of unique values but it is not really conclude what *'attribute6'* means. \n",
    "- It seems reasonable to consider unique values of *'attribute1'* and *'attribute6'* as continuous values.\n",
    "- *'attribute2'* has 558 unique values and *'attribute4'* has 115 unique values. \n",
    "- Treating unique values of *'attribute2'* as a continuous values seems to be rational. \n",
    "- *'attribute3'*, *'attribute4'*, *'attribute5'*, 'attribute7'*, and 'attribute9'* are assumed to be categorical nominal type vaues. discrete values of those variables could be treated as continuous type values but in this demonstration, they are forced to be categorical nominal type values to apply a variety of modeling approaches. \n",
    "\n",
    "*'attribute1'*, *'attribute2'*, and *'attribute6'* are considered to be continuous type values while *'attribute3'*, *'attribute4'*, *'attribute5'*, 'attribute7'*, and 'attribute9' are assumed to be categorical nominal value types. Recall that 'attribute8'* is not included because *'attribute8'* is identical to *'attribute7'*. One can use both *'attribute7'* and *'attribute8'* if Random Forest is the learning algorithm but for this demonstration, *'attribute8'* will not be used. "
   ]
  },
  {
   "cell_type": "markdown",
   "metadata": {},
   "source": [
    "## Categorical Variable Exploration"
   ]
  },
  {
   "cell_type": "markdown",
   "metadata": {},
   "source": [
    "Unique values, contributing to failure, of each variable will be studied. The following uitility functions will help plot the distribution of contributions of unique values in each variable."
   ]
  },
  {
   "cell_type": "code",
   "execution_count": 247,
   "metadata": {},
   "outputs": [],
   "source": [
    "total_record = dataset['failure'].count() # Get a count for total records.\n",
    "failure_summary_table = [[\"Variable\", \"Total\", \"Failure\", \"Non-failure\", \"Intersected\"]] # a summary table.\n",
    "\n",
    "'''\n",
    "    This will plot statistics on unique values with failure contribution.\n",
    "'''\n",
    "def plot_unique_value_contribution_device_failure(attr):\n",
    "    \n",
    "    '''\n",
    "        Prepare dataframe from the original dataset for required statistics.\n",
    "    '''\n",
    "    plt.rcParams['figure.figsize'] = (18.0, 3.5)\n",
    "    attr_failure_info = dataset['failure'] == 1\n",
    "    df1 = pd.DataFrame(dataset, columns=[attr])\n",
    "    df2 = pd.DataFrame(dataset[attr_failure_info], columns=[attr])\n",
    "    attr_failure_info = dataset[attr_failure_info].groupby(attr).failure.sum()\n",
    "\n",
    "    '''\n",
    "        Compute necessary information to generate summary statistics on unique values with \n",
    "        contributions to both failure and non-failure.\n",
    "    '''\n",
    "    total_no_uniq_values = dataset[attr].nunique()\n",
    "    unique_value_ratio = round((total_no_uniq_values/total_record)*100, 4)\n",
    "    failures = attr_failure_info.count()\n",
    "    failure_ratio = round((failures/total_no_uniq_values)*100, 4)\n",
    "    non_failures = total_no_uniq_values - failures\n",
    "    non_failure_ratio = round((non_failures/total_no_uniq_values)*100, 4)\n",
    "    intersection_df = pd.merge(df1, df2, on=[attr], how='inner')\n",
    "    intersection = intersection_df[attr].nunique()\n",
    "    intersection_ratio = round((intersection/failures)*100, 4)\n",
    "    \n",
    "    '''\n",
    "        Store summaries on unique values with failure contribution.\n",
    "    '''\n",
    "    tr = ['{}'.format(attr), \n",
    "          '{:,}({:.2f}%)'.format(total_no_uniq_values, unique_value_ratio),\n",
    "          '{:,}({:.2f}%)'.format(failures, failure_ratio),\n",
    "          '{:,}({:.2f}%)'.format(non_failures, non_failure_ratio),\n",
    "          '{:,}({:.2f}%)'.format(intersection, intersection_ratio)\n",
    "         ]\n",
    "    failure_summary_table.append(tr)"
   ]
  },
  {
   "cell_type": "code",
   "execution_count": 248,
   "metadata": {},
   "outputs": [],
   "source": [
    "# See how unique values in attribute3 contributes to failure. \n",
    "plot_unique_value_contribution_device_failure('attribute3')\n",
    "plot_unique_value_contribution_device_failure('attribute4')\n",
    "plot_unique_value_contribution_device_failure('attribute5')\n",
    "plot_unique_value_contribution_device_failure('attribute7')\n",
    "plot_unique_value_contribution_device_failure('attribute9')"
   ]
  },
  {
   "cell_type": "markdown",
   "metadata": {},
   "source": [
    "Let's take a look at the summary of category variable analyses."
   ]
  },
  {
   "cell_type": "code",
   "execution_count": 249,
   "metadata": {},
   "outputs": [],
   "source": [
    "from IPython.display import HTML, display\n",
    "import tabulate"
   ]
  },
  {
   "cell_type": "code",
   "execution_count": 250,
   "metadata": {},
   "outputs": [
    {
     "data": {
      "text/html": [
       "<table>\n",
       "<tbody>\n",
       "<tr><td>Variable  </td><td>Total     </td><td>Failure   </td><td>Non-failure</td><td>Intersected</td></tr>\n",
       "<tr><td>attribute3</td><td>47(0.04%) </td><td>7(14.89%) </td><td>40(85.11%) </td><td>7(100.00%) </td></tr>\n",
       "<tr><td>attribute4</td><td>115(0.09%)</td><td>40(34.78%)</td><td>75(65.22%) </td><td>40(100.00%)</td></tr>\n",
       "<tr><td>attribute5</td><td>60(0.05%) </td><td>28(46.67%)</td><td>32(53.33%) </td><td>28(100.00%)</td></tr>\n",
       "<tr><td>attribute7</td><td>28(0.02%) </td><td>16(57.14%)</td><td>12(42.86%) </td><td>16(100.00%)</td></tr>\n",
       "<tr><td>attribute9</td><td>65(0.05%) </td><td>14(21.54%)</td><td>51(78.46%) </td><td>14(100.00%)</td></tr>\n",
       "</tbody>\n",
       "</table>"
      ],
      "text/plain": [
       "<IPython.core.display.HTML object>"
      ]
     },
     "metadata": {},
     "output_type": "display_data"
    }
   ],
   "source": [
    "display(HTML(tabulate.tabulate(failure_summary_table, tablefmt='html')))"
   ]
  },
  {
   "cell_type": "markdown",
   "metadata": {},
   "source": [
    "Those variables in the summary are all assumed to have categorical nominal type values. All the category variables have high cardinarities, meaning that those category variables have a large number of unique categorical values. \n",
    "\n",
    "The predictive model needs to classify devices into either failure or non-failure. Looking at the summary above, *'attribute3'* will be the most importance variable for the predictive model to learn that a device is either in failure or non-failure since it has the highest number of intersected unique values. Having a higher number of intersected unique values for a categorical variable means that the predictive model knows many ways to tell if a device is in failure or non-failure. The rank of variable importances will follow high numbers of intersected unique values in each variable.\n",
    "\n",
    "In addition to the summary above, it might a good idea to look at numerical categorical variable importance measures by using *'ExtraTreesClassifer'* in *'sklearn'* and compare the numerical feature importances to the summary above. "
   ]
  },
  {
   "cell_type": "code",
   "execution_count": 217,
   "metadata": {},
   "outputs": [],
   "source": [
    "# import ExtraTreesClassifier.\n",
    "from sklearn.ensemble import ExtraTreesClassifier"
   ]
  },
  {
   "cell_type": "code",
   "execution_count": 223,
   "metadata": {},
   "outputs": [],
   "source": [
    "# Test features for importances.\n",
    "def examine_features(x_train, y_train):\n",
    "    # Build a forest and compute the feature importances\n",
    "    forest = ExtraTreesClassifier(n_estimators=250, random_state=0)\n",
    "    forest.fit(x_train, y_train)\n",
    "    importances = forest.feature_importances_\n",
    "    std = np.std([tree.feature_importances_ for tree in forest.estimators_],\n",
    "                 axis=0)\n",
    "    indices = np.argsort(importances)[::-1]\n",
    "\n",
    "    # Print the feature ranking\n",
    "    print(\"Feature ranking:\")\n",
    "    for f in range(X.shape[1]):\n",
    "        print(\"%d. attribute %d (%f)\" % (f + 1, indices[f] + 1, importances[indices[f]]))\n",
    "\n",
    "    # Plot the feature importances of the forest\n",
    "    plt.rcParams['figure.figsize'] = (18.0, 4.5)\n",
    "    plt.figure()\n",
    "    plt.title(\"Feature importance scores\")\n",
    "    plt.bar(range(X.shape[1]), importances[indices], color=\"red\", yerr=std[indices], align=\"center\")\n",
    "    plt.xticks(range(X.shape[1]), indices+1)\n",
    "    plt.xlim([-1, X.shape[1]])\n",
    "    plt.show()"
   ]
  },
  {
   "cell_type": "code",
   "execution_count": 224,
   "metadata": {},
   "outputs": [
    {
     "name": "stdout",
     "output_type": "stream",
     "text": [
      "Feature ranking:\n",
      "1. attribute 1 (0.278196)\n",
      "2. attribute 6 (0.276792)\n",
      "3. attribute 4 (0.123269)\n",
      "4. attribute 2 (0.102534)\n",
      "5. attribute 5 (0.082676)\n",
      "6. attribute 7 (0.079533)\n",
      "7. attribute 8 (0.044559)\n",
      "8. attribute 3 (0.012441)\n"
     ]
    },
    {
     "data": {
      "image/png": "[encoded data removed]",
      "text/plain": [
       "<Figure size 1296x324 with 1 Axes>"
      ]
     },
     "metadata": {
      "needs_background": "light"
     },
     "output_type": "display_data"
    }
   ],
   "source": [
    "# Execute variable importance test with all the variables in the current dataset.\n",
    "X = dataset[['attribute1', 'attribute2', 'attribute3', 'attribute4', 'attribute5', 'attribute6', 'attribute7', 'attribute9']]\n",
    "Y = dataset.failure\n",
    "examine_features(X, Y)"
   ]
  },
  {
   "cell_type": "markdown",
   "metadata": {},
   "source": [
    "The numeric variable importance test with ExtraTreesClassifier shows the order of important variables according to the variable importance score of each variable. As mentioned above, it is conclusive that variables with a higher number of intersected unique values take higher variable importance scores. Knowing numerical importances of variables gives more confidence in choosing variables to include or exclude when developing the predictive model. With these understandings about variables in the current dataset, diving deeper into the spreads of unique values on failure and non-failure would give more insights to further understand about the variables. Although boxplots are for continuous values, boxplots can be improvised to look at the spreads of unique values of categorical variables, too. Note that one can use *'Logistic Regression'\" to display spreads of values separated for failure and non-failure."
   ]
  },
  {
   "cell_type": "code",
   "execution_count": 253,
   "metadata": {},
   "outputs": [
    {
     "data": {
      "image/png": "[encoded data removed]",
      "text/plain": [
       "<Figure size 720x1440 with 5 Axes>"
      ]
     },
     "metadata": {
      "needs_background": "light"
     },
     "output_type": "display_data"
    }
   ],
   "source": [
    "fig = plt.figure(figsize=(10,20))\n",
    "\n",
    "ax1 = plt.subplot(331)\n",
    "ax2 = plt.subplot(332)\n",
    "ax3 = plt.subplot(333)\n",
    "ax4 = plt.subplot(334)\n",
    "ax5 = plt.subplot(335)\n",
    "\n",
    "dataset.boxplot(column='attribute3',by='failure',ax=ax1)\n",
    "dataset.boxplot(column='attribute4',by='failure',ax=ax2)\n",
    "dataset.boxplot(column='attribute5',by='failure',ax=ax3)\n",
    "dataset.boxplot(column='attribute7',by='failure',ax=ax4)\n",
    "dataset.boxplot(column='attribute9',by='failure',ax=ax5)\n",
    "\n",
    "plt.suptitle('')\n",
    "plt.tight_layout()"
   ]
  },
  {
   "cell_type": "markdown",
   "metadata": {},
   "source": [
    "By looking at the boxplots above, *'attribute4'*, *'attribute5'*, and *'attribute7'* seem to have more options to contribute to failure than other variables: *'attribute3'* and *'attribute9'*. Above boxplots reveal that the unique value, *'0'*, or close to *'0'* in *'attribute3'*, and *'attribute9'* show that has most frequencies for both failure and non-failure while *'attribute4'*, *'attribute5'*, *'attribute7'* show similar spread patterns of their unique values except ranges of spreads of their unique values. From the study of variables, *'attribute4'*, *'attribute5'*, and *'attribute7'* could be good to use for the predictive model developments since they have more distinctive ways to failure and have more distinctive spreads of unique values than unique values of other categorical variables for non-failure."
   ]
  },
  {
   "cell_type": "markdown",
   "metadata": {},
   "source": [
    "Let's also take a look at the number of devices in failure. "
   ]
  },
  {
   "cell_type": "code",
   "execution_count": 262,
   "metadata": {},
   "outputs": [],
   "source": [
    "failure_devices = dataset.failure == 1"
   ]
  },
  {
   "cell_type": "code",
   "execution_count": 284,
   "metadata": {},
   "outputs": [],
   "source": [
    "failure_df = dataset.device[failure_devices]"
   ]
  },
  {
   "cell_type": "code",
   "execution_count": 285,
   "metadata": {},
   "outputs": [
    {
     "data": {
      "text/plain": [
       "106"
      ]
     },
     "execution_count": 285,
     "metadata": {},
     "output_type": "execute_result"
    }
   ],
   "source": [
    "failure_df.count()"
   ]
  },
  {
   "cell_type": "markdown",
   "metadata": {},
   "source": [
    "Are they all unique devices?"
   ]
  },
  {
   "cell_type": "code",
   "execution_count": 273,
   "metadata": {},
   "outputs": [
    {
     "data": {
      "text/plain": [
       "106"
      ]
     },
     "execution_count": 273,
     "metadata": {},
     "output_type": "execute_result"
    }
   ],
   "source": [
    "dataset.device[failure_devices].nunique()"
   ]
  },
  {
   "cell_type": "markdown",
   "metadata": {},
   "source": [
    "There are 106 unique devices in failure. Les't check if all these unique devices are also in non-failure."
   ]
  },
  {
   "cell_type": "code",
   "execution_count": 269,
   "metadata": {},
   "outputs": [],
   "source": [
    "non_failure_devices = dataset.failure == 0"
   ]
  },
  {
   "cell_type": "code",
   "execution_count": 274,
   "metadata": {},
   "outputs": [],
   "source": [
    "non_failure_df = dataset.device[non_failure_devices]"
   ]
  },
  {
   "cell_type": "code",
   "execution_count": 275,
   "metadata": {},
   "outputs": [
    {
     "data": {
      "text/plain": [
       "1169"
      ]
     },
     "execution_count": 275,
     "metadata": {},
     "output_type": "execute_result"
    }
   ],
   "source": [
    "dataset.device[non_failure_devices].nunique()"
   ]
  },
  {
   "cell_type": "markdown",
   "metadata": {},
   "source": [
    "There are 1,169 unique devices in non-failure. The following will check if devices in failure are also in non-failure."
   ]
  },
  {
   "cell_type": "code",
   "execution_count": 281,
   "metadata": {},
   "outputs": [],
   "source": [
    "non_failure_uniques = non_failure_df.unique()"
   ]
  },
  {
   "cell_type": "code",
   "execution_count": 286,
   "metadata": {},
   "outputs": [],
   "source": [
    "non_failure_uniques_list = non_failure_uniques.tolist()"
   ]
  },
  {
   "cell_type": "code",
   "execution_count": 290,
   "metadata": {},
   "outputs": [],
   "source": [
    "def is_all_failure_devices_intersected_in_non_failure():\n",
    "    intersected = 0\n",
    "    for device in failure_df.tolist():\n",
    "        if device in non_failure_uniques_list:\n",
    "            intersected += 1\n",
    "    print(\"The number of intersected devices: {}\".format(intersected))"
   ]
  },
  {
   "cell_type": "code",
   "execution_count": 291,
   "metadata": {},
   "outputs": [
    {
     "name": "stdout",
     "output_type": "stream",
     "text": [
      "The number of intersected devices: 106\n"
     ]
    }
   ],
   "source": [
    "is_all_failure_devices_intersected_in_non_failure()"
   ]
  },
  {
   "cell_type": "markdown",
   "metadata": {},
   "source": [
    "All devices in failure are also in devices with non-failure. "
   ]
  },
  {
   "cell_type": "code",
   "execution_count": null,
   "metadata": {},
   "outputs": [],
   "source": []
  }
 ],
 "metadata": {
  "kernelspec": {
   "display_name": "aws-test4",
   "language": "python",
   "name": "aws-test4"
  },
  "language_info": {
   "codemirror_mode": {
    "name": "ipython",
    "version": 3
   },
   "file_extension": ".py",
   "mimetype": "text/x-python",
   "name": "python",
   "nbconvert_exporter": "python",
   "pygments_lexer": "ipython3",
   "version": "3.5.6"
  }
 },
 "nbformat": 4,
 "nbformat_minor": 2
}
